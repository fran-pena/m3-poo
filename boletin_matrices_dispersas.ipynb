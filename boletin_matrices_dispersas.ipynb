{
  "cells": [
    {
      "cell_type": "markdown",
      "metadata": {
        "id": "jgCogvJiZtZg"
      },
      "source": []
    },
    {
      "cell_type": "markdown",
      "metadata": {},
      "source": [
        "# Boletín de matrices dispersas \n",
        "\n",
        "Este es un ejemplo de boletín para los alumnos.\n",
        "\n",
        "Para compartirlo, indicar la dirección que permite abrirlo directamente en Google Colab:\n",
        "\n",
        "[https://colab.research.google.com/github/fran-pena/m3-poo/blob/main/boletin_matrices_dispersas.ipynb](https://colab.research.google.com/github/fran-pena/m3-poo/blob/main/boletin_matrices_dispersas.ipynb)\n",
        "\n",
        "## Preparación del entorno por primera vez\n",
        "\n",
        "**Solo la primera vez**, debes:\n",
        "\n",
        "1. En el menú de Colab, ir a *Archivo - Guardar una copia en Drive*\n",
        "\n",
        "2. En la barra lateral de Colab, en _Archivos_, pulsar en _Montar Drive_ o, alternativamente:"
      ]
    },
    {
      "cell_type": "code",
      "execution_count": null,
      "metadata": {},
      "outputs": [],
      "source": [
        "from google.colab import drive\n",
        "drive.mount('/content/drive')"
      ]
    },
    {
      "cell_type": "markdown",
      "metadata": {},
      "source": [
        "3. Crear una carpeta en tu Google Drive con las fuentes:"
      ]
    },
    {
      "cell_type": "code",
      "execution_count": null,
      "metadata": {
        "colab": {
          "base_uri": "https://localhost:8080/"
        },
        "collapsed": true,
        "id": "tLudYvHoZSJu",
        "outputId": "87cf3567-2551-4694-8ac6-bcb94bf02d4c"
      },
      "outputs": [],
      "source": [
        "!mkdir -p            /content/drive/MyDrive/colab_proyectos/matrices_dispersas\n",
        "import os; os.chdir('/content/drive/MyDrive/colab_proyectos/matrices_dispersas')\n",
        "\n",
        "!git clone https://github.com/fran-pena/m3-poo.git"
      ]
    },
    {
      "cell_type": "markdown",
      "metadata": {},
      "source": [
        "## Carga del entorno en cada inicio de sesión\n",
        "\n",
        "**En cada inicio de sesión** (de tu copia en Drive) debes cargar los programas e ir a la carpeta del proyecto:"
      ]
    },
    {
      "cell_type": "code",
      "execution_count": null,
      "metadata": {},
      "outputs": [],
      "source": [
        "!apt-get update -qq\n",
        "!apt-get install -y gfortran\n",
        "!apt-get install -y octave\n",
        "\n",
        "from google.colab import drive\n",
        "drive.mount('/content/drive')\n",
        "\n",
        "import os; os.chdir('/content/drive/MyDrive/colab_proyectos/matrices_dispersas')"
      ]
    },
    {
      "cell_type": "markdown",
      "metadata": {},
      "source": [
        "\n",
        "### Descripción del ejemplo de matrices dispersas\n",
        "\n",
        "El ejemplo está explicado en el [documento sobre matrices dispersas](./explicacion_matrices_dispersas.ipynb)."
      ]
    },
    {
      "cell_type": "markdown",
      "metadata": {},
      "source": [
        "### Código\n",
        "\n",
        "Podemos mostrar el código con resaltado de color. Por ejemplo, el programa principal:"
      ]
    },
    {
      "cell_type": "code",
      "execution_count": null,
      "metadata": {},
      "outputs": [],
      "source": [
        "!pygmentize -g m3-poo/src/main.f90"
      ]
    },
    {
      "cell_type": "markdown",
      "metadata": {},
      "source": [
        "\n",
        "### Ejecución del ejemplo"
      ]
    },
    {
      "cell_type": "code",
      "execution_count": null,
      "metadata": {},
      "outputs": [],
      "source": [
        "!gfortran m3-poo/src/matrix_coo.f90 m3-poo/src/main.f90 # compilacion \n",
        "!rm -f grafica.png                                      # borrado preventivo de la imagen\n",
        "!echo 'm3-poo/data/bcsstk04.mtx' | ./a.out              # ejecucion \n",
        "!octave -q --eval output                                # generacion de la imagen"
      ]
    },
    {
      "cell_type": "markdown",
      "metadata": {},
      "source": [
        "La gráfica resultante puede abrirse desde _Archivos_, en la barra lateral de Colab."
      ]
    }
  ],
  "metadata": {
    "colab": {
      "provenance": [],
      "toc_visible": true
    },
    "kernelspec": {
      "display_name": "Python 3",
      "name": "python3"
    },
    "language_info": {
      "name": "python"
    }
  },
  "nbformat": 4,
  "nbformat_minor": 0
}
