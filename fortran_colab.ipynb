{
  "cells": [
    {
      "cell_type": "markdown",
      "metadata": {
        "id": "jgCogvJiZtZg"
      },
      "source": [
        "# Entorno Fortran en Colab\n",
        "\n",
        "Este documento pretende explicar a un docente cómo trabajar con Fortran en Google Colab.\n",
        "\n",
        "Para ver un ejemplo de boletín destinado a los alumnos, ver el [boletín de matrices dispersas](./boletin_matrices_dispersas.ipynb).\n",
        "\n",
        "## Preparación del entorno\n",
        "\n",
        "Al principio de la sesión, es necesario habilitar los paquetes no instalados (gfortran sí lo está), ejecutando los siguientes comandos:"
      ]
    },
    {
      "cell_type": "code",
      "execution_count": null,
      "metadata": {
        "colab": {
          "base_uri": "https://localhost:8080/"
        },
        "collapsed": true,
        "id": "tLudYvHoZSJu",
        "outputId": "87cf3567-2551-4694-8ac6-bcb94bf02d4c"
      },
      "outputs": [],
      "source": [
        "!apt-get update -qq\n",
        "!apt-get install -y octave"
      ]
    },
    {
      "cell_type": "markdown",
      "metadata": {},
      "source": [
        "Estos comandos se han ejecutado en la _shell_ a través del intérprete de Python; de ahí el símbolo inicial `!`.\n",
        "\n",
        "## Entorno de trabajo efímero\n",
        "\n",
        "Al trabajar en Colab sin montar Google Drive, estamos en el entorno temporal `content/`. Los cambios que hagamos en los Jupyter Notebook sólo se conservan si lo guardamos en Google Drive (o GitHub). El resto de ficheros desaparecen al cerrar la sesión.\n",
        "\n",
        "**Este modo de trabajar es útil para pruebas.**\n",
        "\n",
        "### Obtención de fuentes\n",
        "\n",
        "Clonamos el repositorio de github con las fuentes para matrices dispersas:"
      ]
    },
    {
      "cell_type": "code",
      "execution_count": null,
      "metadata": {},
      "outputs": [],
      "source": [
        "!git clone https://github.com/fran-pena/m3-poo.git"
      ]
    },
    {
      "cell_type": "markdown",
      "metadata": {},
      "source": [
        "Si queremos cargar ficheros específicos de otros proyecto de github como , por ejemplo, el módulo principal del proyecto ogpf (_Object Based Interface to GnuPlot from Fortran_) para generar gráficas XY, podemos hacerlo con `wget`:"
      ]
    },
    {
      "cell_type": "code",
      "execution_count": null,
      "metadata": {},
      "outputs": [],
      "source": [
        "!wget https://raw.githubusercontent.com/kookma/ogpf/blob/master/src/ogpf.f90 -O ogpf.f90"
      ]
    },
    {
      "cell_type": "markdown",
      "metadata": {},
      "source": [
        "En este ejemplo no usaremos ogpf, pero podría ser el caso de querer mostrar el tiempo de cálculo de la factorización LU en función de la dimensión de la matriz.\n",
        "\n",
        "Si abrimos _Archivos_ en la barra lateral de Colab, veremos que también hay una carpeta `sample_data/`. Es una carpeta de Colab pensada para hacer pruebas rápidas con datos reales. No tiene ninguna relación con este proyecto."
      ]
    },
    {
      "cell_type": "markdown",
      "metadata": {
        "id": "qMa-LxaEZ06a"
      },
      "source": [
        "### Ejecución del ejemplo"
      ]
    },
    {
      "cell_type": "markdown",
      "metadata": {
        "id": "roaw8cgSZ7VD"
      },
      "source": [
        "Compilamos con:"
      ]
    },
    {
      "cell_type": "code",
      "execution_count": null,
      "metadata": {
        "colab": {
          "base_uri": "https://localhost:8080/"
        },
        "id": "luAtzvFOZppr",
        "outputId": "7f8fa401-f823-4bec-e9ee-2ba5fda57e33"
      },
      "outputs": [],
      "source": [
        "!gfortran m3-poo/src/matrix_coo.f90 m3-poo/src/main.f90"
      ]
    },
    {
      "cell_type": "markdown",
      "metadata": {},
      "source": [
        "Ejecutamos con:"
      ]
    },
    {
      "cell_type": "code",
      "execution_count": null,
      "metadata": {},
      "outputs": [],
      "source": [
        "!rm -f grafica.png                         # borrado preventivo de la imagen\n",
        "!echo 'm3-poo/data/bcsstk04.mtx' | ./a.out # ejecucion \n",
        "!octave -q --eval output                   # generacion de la imagen"
      ]
    },
    {
      "cell_type": "markdown",
      "metadata": {},
      "source": [
        "## Preparación del entorno de trabajo persistente\n",
        "\n",
        "Para conservar los cambios, se recomienda:\n",
        "\n",
        "1. Montar el Drive de nuestra cuenta Google:"
      ]
    },
    {
      "cell_type": "code",
      "execution_count": null,
      "metadata": {},
      "outputs": [],
      "source": [
        "from google.colab import drive\n",
        "drive.mount('/content/drive')"
      ]
    },
    {
      "cell_type": "markdown",
      "metadata": {},
      "source": [
        "2. Crear una carpeta para los proyectos de Colab, `colab_proyectos`, y dentro otra para este proyecto, `matrices_dispersas`:"
      ]
    },
    {
      "cell_type": "code",
      "execution_count": null,
      "metadata": {},
      "outputs": [],
      "source": [
        "!mkdir -p /content/drive/MyDrive/colab_proyectos/matrices_dispersas"
      ]
    },
    {
      "cell_type": "markdown",
      "metadata": {},
      "source": [
        "El comando anterior sólo crea la carpeta `colab_proyectos/matrices_dispersas` en caso de que no exista.\n",
        "\n",
        "3. Cambiarse a ella para trabajar con ficheros persistentes, tanto Jupyter como de otro tipo:"
      ]
    },
    {
      "cell_type": "code",
      "execution_count": null,
      "metadata": {},
      "outputs": [],
      "source": [
        "import os; os.chdir('/content/drive/MyDrive/colab_proyectos/matrices_dispersas')"
      ]
    },
    {
      "cell_type": "markdown",
      "metadata": {},
      "source": [
        "4. Ahora realizamos la obtención de fuentes, una sola vez, en Drive; en la próxima sesión conservaremos en Drive todos los ficheros."
      ]
    },
    {
      "cell_type": "code",
      "execution_count": null,
      "metadata": {},
      "outputs": [],
      "source": [
        "!git clone https://github.com/fran-pena/m3-poo.git"
      ]
    },
    {
      "cell_type": "markdown",
      "metadata": {},
      "source": [
        "## Reanudando el trabajo en un entorno persistente\n",
        "\n",
        "En futuras sesiones, sólo es necesario instalar los paquetes, montar Drive y cambiarse a la carpeta del proyecto:"
      ]
    },
    {
      "cell_type": "code",
      "execution_count": null,
      "metadata": {},
      "outputs": [],
      "source": [
        "# Empezar aquí en una nueva sesión\n",
        "\n",
        "!apt-get update -qq\n",
        "!apt-get install -y octave\n",
        "\n",
        "from google.colab import drive\n",
        "drive.mount('/content/drive')\n",
        "\n",
        "import os; os.chdir('/content/drive/MyDrive/colab_proyectos/matrices_dispersas')"
      ]
    },
    {
      "cell_type": "markdown",
      "metadata": {},
      "source": [
        "Ya podremos editar los ficheros, compilar y ejecutar.\n",
        "\n",
        "Es decir, los comandos del boletín pueden reducirse a la mínima expresión, como veremos en el [boletín de matrices dispersas]()."
      ]
    }
  ],
  "metadata": {
    "colab": {
      "provenance": [],
      "toc_visible": true
    },
    "kernelspec": {
      "display_name": "Python 3",
      "name": "python3"
    },
    "language_info": {
      "name": "python"
    }
  },
  "nbformat": 4,
  "nbformat_minor": 0
}
