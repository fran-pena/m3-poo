{
  "cells": [
    {
      "cell_type": "markdown",
      "metadata": {
        "id": "jgCogvJiZtZg"
      },
      "source": [
        "# Entorno Fortran en Colab\n",
        "\n",
        "## Preparación del entorno\n",
        "\n",
        "Al principio de la sesión, es necesario habilitar el compilador de Fortran, ejecutando los siguientes comandos:"
      ]
    },
    {
      "cell_type": "code",
      "execution_count": null,
      "metadata": {
        "colab": {
          "base_uri": "https://localhost:8080/"
        },
        "collapsed": true,
        "id": "tLudYvHoZSJu",
        "outputId": "87cf3567-2551-4694-8ac6-bcb94bf02d4c"
      },
      "outputs": [
        {
          "name": "stdout",
          "output_type": "stream",
          "text": [
            "W: Skipping acquire of configured file 'main/source/Sources' as repository 'https://r2u.stat.illinois.edu/ubuntu jammy InRelease' does not seem to provide it (sources.list entry misspelt?)\n",
            "Reading package lists... Done\n",
            "Building dependency tree... Done\n",
            "Reading state information... Done\n",
            "gfortran is already the newest version (4:11.2.0-1ubuntu1).\n",
            "0 upgraded, 0 newly installed, 0 to remove and 37 not upgraded.\n"
          ]
        }
      ],
      "source": [
        "!apt-get update -qq\n",
        "!apt-get install -y gfortran"
      ]
    },
    {
      "cell_type": "markdown",
      "metadata": {},
      "source": [
        "Estos comandos se han ejecutado en la _shell_ a través del intérprete de Python; de ahí el símbolo inicial `!`.\n",
        "\n",
        "En caso de querer disponer de _Octave_ ejecutaríamos también:\n",
        "\n",
        "```python\n",
        "!apt-get install -y octave\n",
        "```"
      ]
    },
    {
      "cell_type": "markdown",
      "metadata": {},
      "source": [
        "## Entorno de trabajo efímero\n",
        "\n",
        "Al trabajar en Colab sin montar Google Drive, estamos en el entorno temporal `content/`. Los cambios que hagamos en los Jupyter Notebook solo se conservan si lo guardamos en Google Drive (o GitHub). El resto de ficheros desaparecen al cerrar la sesión.\n",
        "\n",
        "**Este modo de trabajar es útil para pruebas**\n",
        "\n",
        "### Obtención de fuentes\n",
        "\n",
        "Clonamos el repositorio con las fuentes para matrices dispersas:"
      ]
    },
    {
      "cell_type": "code",
      "execution_count": null,
      "metadata": {},
      "outputs": [],
      "source": [
        "!git clone https://github.com/fran-pena/m3-poo.git"
      ]
    },
    {
      "cell_type": "markdown",
      "metadata": {},
      "source": [
        "Para poder realizar gráficas, obtenemos el módulo principal del proyecto ogpf (_Object Based Interface to GnuPlot from Fortran_):"
      ]
    },
    {
      "cell_type": "code",
      "execution_count": null,
      "metadata": {},
      "outputs": [],
      "source": [
        "!wget https://raw.githubusercontent.com/kookma/ogpf/blob/master/src/ogpf.f90 -O ogpf.f90"
      ]
    },
    {
      "cell_type": "markdown",
      "metadata": {},
      "source": [
        "Si abrimos _Archivos_ en la barra lateral de Colab, veremos que también hay una carepta `sample_data/`. Es una carpeta de Colab pensada para hacer pruebas rápidas con datos reales. No tiene ninguna relación con este proyecto."
      ]
    },
    {
      "cell_type": "markdown",
      "metadata": {
        "id": "cLBEA9vcYRxu"
      },
      "source": [
        "### Descripción del ejemplo de matriz dispersa\n",
        "\n",
        "El ejemplo está explicado en el [Jupyter sobre matrices dispersas](./Matrices_dispersas.ipynb)."
      ]
    },
    {
      "cell_type": "markdown",
      "metadata": {
        "id": "qMa-LxaEZ06a"
      },
      "source": [
        "### Ejecución del ejemplo"
      ]
    },
    {
      "cell_type": "markdown",
      "metadata": {
        "id": "roaw8cgSZ7VD"
      },
      "source": [
        "Compilamos con:"
      ]
    },
    {
      "cell_type": "code",
      "execution_count": null,
      "metadata": {
        "colab": {
          "base_uri": "https://localhost:8080/"
        },
        "id": "luAtzvFOZppr",
        "outputId": "7f8fa401-f823-4bec-e9ee-2ba5fda57e33"
      },
      "outputs": [
        {
          "name": "stdout",
          "output_type": "stream",
          "text": [
            " ¡Hola desde Fortran en Google Colab!\n"
          ]
        }
      ],
      "source": [
        "!gfortran ogpf.90 matrix_class.f90 main.f90"
      ]
    },
    {
      "cell_type": "markdown",
      "metadata": {},
      "source": [
        "Ejecutamos con:"
      ]
    },
    {
      "cell_type": "code",
      "execution_count": null,
      "metadata": {},
      "outputs": [],
      "source": [
        "!./a.out"
      ]
    },
    {
      "cell_type": "markdown",
      "metadata": {},
      "source": [
        "## Preparación del entorno de trabajo persistente\n",
        "\n",
        "Para conservar los cambios, se recomienda:\n",
        "\n",
        "1. Montar Drive de nuestra cuenta Google:"
      ]
    },
    {
      "cell_type": "code",
      "execution_count": null,
      "metadata": {},
      "outputs": [],
      "source": [
        "from google.colab import drive\n",
        "drive.mount('/content/drive')"
      ]
    },
    {
      "cell_type": "markdown",
      "metadata": {},
      "source": [
        "2. Crear una carpeta para los proyectos de Colab, `colab_proyectos`, y dentro otra para este proyecto, `matrices_dispersas`:"
      ]
    },
    {
      "cell_type": "code",
      "execution_count": null,
      "metadata": {},
      "outputs": [],
      "source": [
        "!mkdir -p /content/drive/MyDrive/colab_proyectos/matrices_dispersas"
      ]
    },
    {
      "cell_type": "markdown",
      "metadata": {},
      "source": [
        "El comando anterior sólo crea la carpeta `colab_proyectos/matrices_dispersas` en caso de que no exista.\n",
        "\n",
        "3. Cambiarse a ella para trabajar con ficheros persistentes, tanto Jupyter como de otro tipo:"
      ]
    },
    {
      "cell_type": "code",
      "execution_count": null,
      "metadata": {},
      "outputs": [],
      "source": [
        "import os; os.chdir('/content/drive/MyDrive/colab_proyectos/matrices_dispersas')"
      ]
    },
    {
      "cell_type": "markdown",
      "metadata": {},
      "source": [
        "4. Ahora realizamos la obtención de fuentes una sola vez; en la próxima sesión conservaremos en Drive todos los ficheros."
      ]
    },
    {
      "cell_type": "code",
      "execution_count": null,
      "metadata": {},
      "outputs": [],
      "source": [
        "!git clone https://github.com/fran-pena/m3-poo.git\n",
        "!wget https://raw.githubusercontent.com/kookma/ogpf/blob/master/src/ogpf.f90 -O ogpf.f90"
      ]
    },
    {
      "cell_type": "markdown",
      "metadata": {},
      "source": [
        "## Reanudando el trabajo en un entorno persistente\n",
        "\n",
        "En futuras sesiones, sólo es necesario instalar los paquetes, montar Drive y cambiarse a la carpeta del proyecto:"
      ]
    },
    {
      "cell_type": "code",
      "execution_count": null,
      "metadata": {},
      "outputs": [],
      "source": [
        "# Empezar aquí en una nueva sesión\n",
        "\n",
        "!apt-get update -qq\n",
        "!apt-get install -y gfortran\n",
        "\n",
        "from google.colab import drive\n",
        "drive.mount('/content/drive')\n",
        "\n",
        "import os; os.chdir('/content/drive/MyDrive/colab_proyectos/matrices_dispersas')"
      ]
    },
    {
      "cell_type": "markdown",
      "metadata": {},
      "source": [
        "Ya podremos editar los ficheros, compilar y ejecutar:"
      ]
    },
    {
      "cell_type": "code",
      "execution_count": null,
      "metadata": {},
      "outputs": [],
      "source": [
        "!gfortran ogpf.90 matrix_class.f90 main.f90"
      ]
    },
    {
      "cell_type": "code",
      "execution_count": null,
      "metadata": {},
      "outputs": [],
      "source": [
        "!./a.out"
      ]
    },
    {
      "cell_type": "markdown",
      "metadata": {},
      "source": [
        "Falta poner las carpetas de oop y limpiar el,fichero de explicaciones."
      ]
    },
    {
      "cell_type": "markdown",
      "metadata": {},
      "source": [
        "\n",
        "        Google Drive si prefieres entorno visual\n",
        "\n",
        "        GitHub si trabajas en grupo o quieres control de versiones\n",
        "\n",
        "    Los archivos auxiliares (.f90, .py, etc.):\n",
        "\n",
        "        Mételos en el repositorio de GitHub\n",
        "\n",
        "        O en tu Google Drive y accede a ellos vía ruta absoluta\n",
        "\n",
        "🧪 Ejemplo de rutina fiable\n",
        "\n",
        "# 1. Montas tu Drive (solo la primera vez en cada sesión)\n",
        "from google.colab import drive\n",
        "drive.mount('/content/drive')\n",
        "\n",
        "# 2. Te mueves a una carpeta persistente\n",
        "import os\n",
        "os.chdir('/content/drive/MyDrive/colab_proyectos/proyecto1')\n",
        "\n",
        "¿Quieres que te prepare un snippet tipo plantilla de proyecto para trabajar en Colab con ficheros persistentes y clonado automático de un repo?\n",
        "\n",
        "Podemos crear y editar ficheros de cualquier tipo en Colab, pero sólo los Jupyter Notebook se conservan al cerrar la sesión. Si queremos conservarlos, podemos conectar el proyecto  or Los únicos ficheros guardados en Colab son los .ipynb. Si se desea La próxima Clonamos el repositorio con las fuentes para matrices dispersas:\n",
        "\n"
      ]
    },
    {
      "cell_type": "markdown",
      "metadata": {
        "id": "AIpHafe3aU51"
      },
      "source": [
        "Si vamos al menú _Archivo - Guardar una copia en Drive_, conservamos este fichero .pynb.\n",
        "\n",
        "Si queremos conservar los resultados de una ejecución, como ficheros de resultados, hay que montar nuestro Drive, como se indica a continuación"
      ]
    },
    {
      "cell_type": "code",
      "execution_count": null,
      "metadata": {
        "colab": {
          "base_uri": "https://localhost:8080/"
        },
        "id": "i5xyBqgvZ-nd",
        "outputId": "bb7678b3-6a6c-4ff7-fbbc-5ebee93d3372"
      },
      "outputs": [
        {
          "name": "stdout",
          "output_type": "stream",
          "text": [
            "Drive already mounted at /content/drive; to attempt to forcibly remount, call drive.mount(\"/content/drive\", force_remount=True).\n"
          ]
        }
      ],
      "source": [
        "from google.colab import drive\n",
        "drive.mount('/content/drive')"
      ]
    },
    {
      "cell_type": "markdown",
      "metadata": {
        "id": "O08Kwv_sazsz"
      },
      "source": [
        "Dspués podemos copiar los archivos .f90, resultados, etc. a una carpeta de Drive"
      ]
    },
    {
      "cell_type": "code",
      "execution_count": null,
      "metadata": {
        "id": "hR39EMJ8aueg"
      },
      "outputs": [],
      "source": [
        "!cp hello.f90 drive/MyDrive/fortran_projects/"
      ]
    },
    {
      "cell_type": "code",
      "execution_count": null,
      "metadata": {
        "id": "bx5PhN_FbFdY"
      },
      "outputs": [],
      "source": [
        "!cd /content/drive"
      ]
    },
    {
      "cell_type": "code",
      "execution_count": null,
      "metadata": {
        "colab": {
          "base_uri": "https://localhost:8080/"
        },
        "id": "uywujTi-bHVP",
        "outputId": "56fa9278-9e19-4631-e9a1-2ace2b624a16"
      },
      "outputs": [
        {
          "name": "stdout",
          "output_type": "stream",
          "text": [
            "/content\n"
          ]
        }
      ],
      "source": [
        "!cd drive\n",
        "!pwd"
      ]
    },
    {
      "cell_type": "markdown",
      "metadata": {},
      "source": [
        "# Clona el repositorio con todo el proyecto, solo ejecuta esta celda\n",
        "!git clone https://github.com/usuario/proyecto.git\n",
        "\n",
        "# Cambia al directorio del proyecto para poder trabajar con los notebooks y ficheros\n",
        "import os\n",
        "os.chdir(\"proyecto\")\n",
        "\n",
        "\n",
        "!wget https://raw.githubusercontent.com/kookma/ogpf/blob/master/src/ogpf.f90 -O ogpf.f90\n"
      ]
    },
    {
      "cell_type": "markdown",
      "metadata": {
        "id": "uyi_NuyAc4fN"
      },
      "source": [
        "Ahora el Octave"
      ]
    },
    {
      "cell_type": "code",
      "execution_count": null,
      "metadata": {
        "colab": {
          "base_uri": "https://localhost:8080/"
        },
        "collapsed": true,
        "id": "Yt6ZZyIOcOfp",
        "outputId": "863e954a-79fa-40a5-86fd-f983528bdad2"
      },
      "outputs": [
        {
          "name": "stdout",
          "output_type": "stream",
          "text": [
            "W: Skipping acquire of configured file 'main/source/Sources' as repository 'https://r2u.stat.illinois.edu/ubuntu jammy InRelease' does not seem to provide it (sources.list entry misspelt?)\n",
            "Reading package lists... Done\n",
            "Building dependency tree... Done\n",
            "Reading state information... Done\n",
            "The following additional packages will be installed:\n",
            "  aglfn default-jre-headless epstool fonts-droid-fallback fonts-freefont-otf\n",
            "  fonts-noto-mono fonts-urw-base35 ghostscript gnuplot-data gnuplot-qt gsfonts\n",
            "  imagemagick-6-common info install-info libamd2 libauthen-sasl-perl libbtf1\n",
            "  libcamd2 libccolamd2 libcholmod3 libclone-perl libcolamd2 libcombblas1.16.0\n",
            "  libcxsparse3 libdata-dump-perl libemf1 libencode-locale-perl libevdev2\n",
            "  libfftw3-double3 libfftw3-long3 libfftw3-mpi3 libfftw3-single3\n",
            "  libfile-listing-perl libfltk-gl1.3 libfltk1.3 libfont-afm-perl libglpk40\n",
            "  libglu1-mesa libgraphicsmagick++-q16-12 libgraphicsmagick-q16-3 libgs9\n",
            "  libgs9-common libgudev-1.0-0 libhdf5-openmpi-103-1 libhtml-form-perl\n",
            "  libhtml-format-perl libhtml-parser-perl libhtml-tagset-perl\n",
            "  libhtml-tree-perl libhttp-cookies-perl libhttp-daemon-perl libhttp-date-perl\n",
            "  libhttp-message-perl libhttp-negotiate-perl libhypre-2.22.1 libidn12\n",
            "  libijs-0.35 libinput-bin libinput10 libio-html-perl libio-socket-ssl-perl\n",
            "  libjbig2dec0 libklu1 liblqr-1-0 liblua5.4-0 liblwp-mediatypes-perl\n",
            "  liblwp-protocol-https-perl libmagick++-6.q16-8 libmagickcore-6.q16-6\n",
            "  libmagickwand-6.q16-6 libmailtools-perl libmd4c0 libmetis5 libmtdev1\n",
            "  libnet-http-perl libnet-smtp-ssl-perl libnet-ssleay-perl libnotify4\n",
            "  libpetsc-real3.15 libplot2c2 libportaudio2 libpstoedit0c2a libptscotch-6.1\n",
            "  libqrupdate1 libqscintilla2-qt5-15 libqscintilla2-qt5-l10n libqt5core5a\n",
            "  libqt5dbus5 libqt5gui5 libqt5help5 libqt5network5 libqt5printsupport5\n",
            "  libqt5sql5 libqt5sql5-sqlite libqt5svg5 libqt5widgets5 libqt5xml5\n",
            "  libsuitesparseconfig5 libsundials-ida4 libsundials-nvecparallel-petsc4\n",
            "  libsundials-nvecserial4 libsundials-sunlinsol2 libsundials-sunmatrix2\n",
            "  libsuperlu-dist7 libtext-unidecode-perl libtrilinos-amesos-13.2\n",
            "  libtrilinos-aztecoo-13.2 libtrilinos-epetra-13.2 libtrilinos-epetraext-13.2\n",
            "  libtrilinos-galeri-13.2 libtrilinos-ifpack-13.2 libtrilinos-kokkos-13.2\n",
            "  libtrilinos-ml-13.2 libtrilinos-teuchos-13.2 libtrilinos-trilinosss-13.2\n",
            "  libtrilinos-triutils-13.2 libtrilinos-zoltan-13.2 libtry-tiny-perl\n",
            "  libumfpack5 liburi-perl libwacom-bin libwacom-common libwacom9\n",
            "  libwmflite-0.2-7 libwww-perl libwww-robotrules-perl libwxbase3.0-0v5\n",
            "  libwxgtk3.0-gtk3-0v5 libxcb-icccm4 libxcb-image0 libxcb-keysyms1\n",
            "  libxcb-render-util0 libxcb-util1 libxcb-xinerama0 libxcb-xinput0 libxcb-xkb1\n",
            "  libxkbcommon-x11-0 libxml-libxml-perl libxml-namespacesupport-perl\n",
            "  libxml-parser-perl libxml-sax-base-perl libxml-sax-expat-perl\n",
            "  libxml-sax-perl libzip4 netbase octave-common octave-doc\n",
            "  perl-openssl-defaults poppler-data pstoedit qt5-gtk-platformtheme\n",
            "  qttranslations5-l10n tex-common texinfo\n",
            "Suggested packages:\n",
            "  default-jre fonts-noto fonts-texgyre ghostscript-x gnuplot-doc\n",
            "  libdigest-hmac-perl libgssapi-perl libfftw3-bin libfftw3-dev\n",
            "  libfftw3-mpi-dev libiodbc2-dev graphicsmagick-dbg libcrypt-ssleay-perl\n",
            "  libmagickcore-6.q16-6-extra gnome-shell | notification-daemon\n",
            "  libqscintilla2-doc qt5-image-formats-plugins qtwayland5 libsub-name-perl\n",
            "  libbusiness-isbn-perl libauthen-ntlm-perl libxml-sax-expatxs-perl octave-dev\n",
            "  www-browser | pdf-viewer poppler-utils fonts-japanese-mincho\n",
            "  | fonts-ipafont-mincho fonts-japanese-gothic | fonts-ipafont-gothic\n",
            "  fonts-arphic-ukai fonts-arphic-uming fonts-nanum xfig | ivtools-bin | tgif\n",
            "  | transfig debhelper texlive-base texlive-latex-base texlive-plain-generic\n",
            "  texlive-fonts-recommended\n",
            "The following NEW packages will be installed:\n",
            "  aglfn default-jre-headless epstool fonts-droid-fallback fonts-freefont-otf\n",
            "  fonts-noto-mono fonts-urw-base35 ghostscript gnuplot-data gnuplot-qt gsfonts\n",
            "  imagemagick-6-common info install-info libamd2 libauthen-sasl-perl libbtf1\n",
            "  libcamd2 libccolamd2 libcholmod3 libclone-perl libcolamd2 libcombblas1.16.0\n",
            "  libcxsparse3 libdata-dump-perl libemf1 libencode-locale-perl libevdev2\n",
            "  libfftw3-double3 libfftw3-long3 libfftw3-mpi3 libfftw3-single3\n",
            "  libfile-listing-perl libfltk-gl1.3 libfltk1.3 libfont-afm-perl libglpk40\n",
            "  libglu1-mesa libgraphicsmagick++-q16-12 libgraphicsmagick-q16-3 libgs9\n",
            "  libgs9-common libgudev-1.0-0 libhdf5-openmpi-103-1 libhtml-form-perl\n",
            "  libhtml-format-perl libhtml-parser-perl libhtml-tagset-perl\n",
            "  libhtml-tree-perl libhttp-cookies-perl libhttp-daemon-perl libhttp-date-perl\n",
            "  libhttp-message-perl libhttp-negotiate-perl libhypre-2.22.1 libidn12\n",
            "  libijs-0.35 libinput-bin libinput10 libio-html-perl libio-socket-ssl-perl\n",
            "  libjbig2dec0 libklu1 liblqr-1-0 liblua5.4-0 liblwp-mediatypes-perl\n",
            "  liblwp-protocol-https-perl libmagick++-6.q16-8 libmagickcore-6.q16-6\n",
            "  libmagickwand-6.q16-6 libmailtools-perl libmd4c0 libmetis5 libmtdev1\n",
            "  libnet-http-perl libnet-smtp-ssl-perl libnet-ssleay-perl libnotify4\n",
            "  libpetsc-real3.15 libplot2c2 libportaudio2 libpstoedit0c2a libptscotch-6.1\n",
            "  libqrupdate1 libqscintilla2-qt5-15 libqscintilla2-qt5-l10n libqt5core5a\n",
            "  libqt5dbus5 libqt5gui5 libqt5help5 libqt5network5 libqt5printsupport5\n",
            "  libqt5sql5 libqt5sql5-sqlite libqt5svg5 libqt5widgets5 libqt5xml5\n",
            "  libsuitesparseconfig5 libsundials-ida4 libsundials-nvecparallel-petsc4\n",
            "  libsundials-nvecserial4 libsundials-sunlinsol2 libsundials-sunmatrix2\n",
            "  libsuperlu-dist7 libtext-unidecode-perl libtrilinos-amesos-13.2\n",
            "  libtrilinos-aztecoo-13.2 libtrilinos-epetra-13.2 libtrilinos-epetraext-13.2\n",
            "  libtrilinos-galeri-13.2 libtrilinos-ifpack-13.2 libtrilinos-kokkos-13.2\n",
            "  libtrilinos-ml-13.2 libtrilinos-teuchos-13.2 libtrilinos-trilinosss-13.2\n",
            "  libtrilinos-triutils-13.2 libtrilinos-zoltan-13.2 libtry-tiny-perl\n",
            "  libumfpack5 liburi-perl libwacom-bin libwacom-common libwacom9\n",
            "  libwmflite-0.2-7 libwww-perl libwww-robotrules-perl libwxbase3.0-0v5\n",
            "  libwxgtk3.0-gtk3-0v5 libxcb-icccm4 libxcb-image0 libxcb-keysyms1\n",
            "  libxcb-render-util0 libxcb-util1 libxcb-xinerama0 libxcb-xinput0 libxcb-xkb1\n",
            "  libxkbcommon-x11-0 libxml-libxml-perl libxml-namespacesupport-perl\n",
            "  libxml-parser-perl libxml-sax-base-perl libxml-sax-expat-perl\n",
            "  libxml-sax-perl libzip4 netbase octave octave-common octave-doc\n",
            "  perl-openssl-defaults poppler-data pstoedit qt5-gtk-platformtheme\n",
            "  qttranslations5-l10n tex-common texinfo\n",
            "0 upgraded, 155 newly installed, 0 to remove and 37 not upgraded.\n",
            "Need to get 95.2 MB of archives.\n",
            "After this operation, 334 MB of additional disk space will be used.\n",
            "Get:1 http://archive.ubuntu.com/ubuntu jammy/main amd64 install-info amd64 6.8-4build1 [88.1 kB]\n",
            "Get:2 http://archive.ubuntu.com/ubuntu jammy/main amd64 fonts-droid-fallback all 1:6.0.1r16-1.1build1 [1,805 kB]\n",
            "Get:3 http://archive.ubuntu.com/ubuntu jammy/main amd64 libfftw3-double3 amd64 3.3.8-2ubuntu8 [770 kB]\n",
            "Get:4 http://archive.ubuntu.com/ubuntu jammy/universe amd64 liblqr-1-0 amd64 0.4.2-2.1 [27.7 kB]\n",
            "Get:5 http://archive.ubuntu.com/ubuntu jammy-updates/universe amd64 imagemagick-6-common all 8:6.9.11.60+dfsg-1.3ubuntu0.22.04.5 [64.3 kB]\n",
            "Get:6 http://archive.ubuntu.com/ubuntu jammy-updates/universe amd64 libmagickcore-6.q16-6 amd64 8:6.9.11.60+dfsg-1.3ubuntu0.22.04.5 [1,795 kB]\n",
            "Get:7 http://archive.ubuntu.com/ubuntu jammy-updates/universe amd64 libmagickwand-6.q16-6 amd64 8:6.9.11.60+dfsg-1.3ubuntu0.22.04.5 [328 kB]\n",
            "Get:8 http://archive.ubuntu.com/ubuntu jammy-updates/universe amd64 libqt5core5a amd64 5.15.3+dfsg-2ubuntu0.2 [2,006 kB]\n",
            "Get:9 http://archive.ubuntu.com/ubuntu jammy/main amd64 libevdev2 amd64 1.12.1+dfsg-1 [39.5 kB]\n",
            "Get:10 http://archive.ubuntu.com/ubuntu jammy/main amd64 libmtdev1 amd64 1.1.6-1build4 [14.5 kB]\n",
            "Get:11 http://archive.ubuntu.com/ubuntu jammy/main amd64 libgudev-1.0-0 amd64 1:237-2build1 [16.3 kB]\n",
            "Get:12 http://archive.ubuntu.com/ubuntu jammy/main amd64 libwacom-common all 2.2.0-1 [54.3 kB]\n",
            "Get:13 http://archive.ubuntu.com/ubuntu jammy/main amd64 libwacom9 amd64 2.2.0-1 [22.0 kB]\n",
            "Get:14 http://archive.ubuntu.com/ubuntu jammy-updates/main amd64 libinput-bin amd64 1.20.0-1ubuntu0.3 [19.9 kB]\n",
            "Get:15 http://archive.ubuntu.com/ubuntu jammy-updates/main amd64 libinput10 amd64 1.20.0-1ubuntu0.3 [131 kB]\n",
            "Get:16 http://archive.ubuntu.com/ubuntu jammy/universe amd64 libmd4c0 amd64 0.4.8-1 [42.0 kB]\n",
            "Get:17 http://archive.ubuntu.com/ubuntu jammy-updates/universe amd64 libqt5dbus5 amd64 5.15.3+dfsg-2ubuntu0.2 [222 kB]\n",
            "Get:18 http://archive.ubuntu.com/ubuntu jammy-updates/universe amd64 libqt5network5 amd64 5.15.3+dfsg-2ubuntu0.2 [731 kB]\n",
            "Get:19 http://archive.ubuntu.com/ubuntu jammy/main amd64 libxcb-icccm4 amd64 0.4.1-1.1build2 [11.5 kB]\n",
            "Get:20 http://archive.ubuntu.com/ubuntu jammy/main amd64 libxcb-util1 amd64 0.4.0-1build2 [11.4 kB]\n",
            "Get:21 http://archive.ubuntu.com/ubuntu jammy/main amd64 libxcb-image0 amd64 0.4.0-2 [11.5 kB]\n",
            "Get:22 http://archive.ubuntu.com/ubuntu jammy/main amd64 libxcb-keysyms1 amd64 0.4.0-1build3 [8,746 B]\n",
            "Get:23 http://archive.ubuntu.com/ubuntu jammy/main amd64 libxcb-render-util0 amd64 0.3.9-1build3 [10.3 kB]\n",
            "Get:24 http://archive.ubuntu.com/ubuntu jammy/main amd64 libxcb-xinerama0 amd64 1.14-3ubuntu3 [5,414 B]\n",
            "Get:25 http://archive.ubuntu.com/ubuntu jammy/main amd64 libxcb-xinput0 amd64 1.14-3ubuntu3 [34.3 kB]\n",
            "Get:26 http://archive.ubuntu.com/ubuntu jammy/main amd64 libxcb-xkb1 amd64 1.14-3ubuntu3 [32.8 kB]\n",
            "Get:27 http://archive.ubuntu.com/ubuntu jammy/main amd64 libxkbcommon-x11-0 amd64 1.4.0-1 [14.4 kB]\n",
            "Get:28 http://archive.ubuntu.com/ubuntu jammy-updates/universe amd64 libqt5gui5 amd64 5.15.3+dfsg-2ubuntu0.2 [3,722 kB]\n",
            "Get:29 http://archive.ubuntu.com/ubuntu jammy-updates/universe amd64 libqt5widgets5 amd64 5.15.3+dfsg-2ubuntu0.2 [2,561 kB]\n",
            "Get:30 http://archive.ubuntu.com/ubuntu jammy/universe amd64 libqt5svg5 amd64 5.15.3-1 [149 kB]\n",
            "Get:31 http://archive.ubuntu.com/ubuntu jammy/main amd64 poppler-data all 0.4.11-1 [2,171 kB]\n",
            "Get:32 http://archive.ubuntu.com/ubuntu jammy/universe amd64 tex-common all 6.17 [33.7 kB]\n",
            "Get:33 http://archive.ubuntu.com/ubuntu jammy/main amd64 netbase all 6.3 [12.9 kB]\n",
            "Get:34 http://archive.ubuntu.com/ubuntu jammy/main amd64 info amd64 6.8-4build1 [213 kB]\n",
            "Get:35 http://archive.ubuntu.com/ubuntu jammy/main amd64 default-jre-headless amd64 2:1.11-72build2 [3,042 B]\n",
            "Get:36 http://archive.ubuntu.com/ubuntu jammy/main amd64 fonts-urw-base35 all 20200910-1 [6,367 kB]\n",
            "Get:37 http://archive.ubuntu.com/ubuntu jammy-updates/main amd64 libgs9-common all 9.55.0~dfsg1-0ubuntu5.11 [753 kB]\n",
            "Get:38 http://archive.ubuntu.com/ubuntu jammy-updates/main amd64 libidn12 amd64 1.38-4ubuntu1 [60.0 kB]\n",
            "Get:39 http://archive.ubuntu.com/ubuntu jammy/main amd64 libijs-0.35 amd64 0.35-15build2 [16.5 kB]\n",
            "Get:40 http://archive.ubuntu.com/ubuntu jammy/main amd64 libjbig2dec0 amd64 0.19-3build2 [64.7 kB]\n",
            "Get:41 http://archive.ubuntu.com/ubuntu jammy-updates/main amd64 libgs9 amd64 9.55.0~dfsg1-0ubuntu5.11 [5,031 kB]\n",
            "Get:42 http://archive.ubuntu.com/ubuntu jammy-updates/main amd64 ghostscript amd64 9.55.0~dfsg1-0ubuntu5.11 [49.4 kB]\n",
            "Get:43 http://archive.ubuntu.com/ubuntu jammy/universe amd64 epstool amd64 3.09-3 [110 kB]\n",
            "Get:44 http://archive.ubuntu.com/ubuntu jammy/universe amd64 fonts-freefont-otf all 20120503-10build1 [3,054 kB]\n",
            "Get:45 http://archive.ubuntu.com/ubuntu jammy/main amd64 fonts-noto-mono all 20201225-1build1 [397 kB]\n",
            "Get:46 http://archive.ubuntu.com/ubuntu jammy/universe amd64 aglfn all 1.7+git20191031.4036a9c-2 [30.6 kB]\n",
            "Get:47 http://archive.ubuntu.com/ubuntu jammy/universe amd64 gnuplot-data all 5.4.2+dfsg2-2 [75.3 kB]\n",
            "Get:48 http://archive.ubuntu.com/ubuntu jammy/universe amd64 liblua5.4-0 amd64 5.4.4-1 [152 kB]\n",
            "Get:49 http://archive.ubuntu.com/ubuntu jammy-updates/universe amd64 libqt5printsupport5 amd64 5.15.3+dfsg-2ubuntu0.2 [214 kB]\n",
            "Get:50 http://archive.ubuntu.com/ubuntu jammy/universe amd64 libwxbase3.0-0v5 amd64 3.0.5.1+dfsg-4 [881 kB]\n",
            "Get:51 http://archive.ubuntu.com/ubuntu jammy-updates/main amd64 libnotify4 amd64 0.7.9-3ubuntu5.22.04.1 [20.3 kB]\n",
            "Get:52 http://archive.ubuntu.com/ubuntu jammy/universe amd64 libwxgtk3.0-gtk3-0v5 amd64 3.0.5.1+dfsg-4 [4,368 kB]\n",
            "Get:53 http://archive.ubuntu.com/ubuntu jammy/universe amd64 gnuplot-qt amd64 5.4.2+dfsg2-2 [1,156 kB]\n",
            "Get:54 http://archive.ubuntu.com/ubuntu jammy/universe amd64 gsfonts all 1:8.11+urwcyr1.0.7~pre44-4.5 [3,120 kB]\n",
            "Get:55 http://archive.ubuntu.com/ubuntu jammy/main amd64 libsuitesparseconfig5 amd64 1:5.10.1+dfsg-4build1 [10.4 kB]\n",
            "Get:56 http://archive.ubuntu.com/ubuntu jammy/universe amd64 libamd2 amd64 1:5.10.1+dfsg-4build1 [21.6 kB]\n",
            "Get:57 http://archive.ubuntu.com/ubuntu jammy/universe amd64 libbtf1 amd64 1:5.10.1+dfsg-4build1 [12.1 kB]\n",
            "Get:58 http://archive.ubuntu.com/ubuntu jammy/universe amd64 libcamd2 amd64 1:5.10.1+dfsg-4build1 [23.3 kB]\n",
            "Get:59 http://archive.ubuntu.com/ubuntu jammy/universe amd64 libccolamd2 amd64 1:5.10.1+dfsg-4build1 [25.2 kB]\n",
            "Get:60 http://archive.ubuntu.com/ubuntu jammy/main amd64 libcolamd2 amd64 1:5.10.1+dfsg-4build1 [18.0 kB]\n",
            "Get:61 http://archive.ubuntu.com/ubuntu jammy/universe amd64 libmetis5 amd64 5.1.0.dfsg-7build2 [181 kB]\n",
            "Get:62 http://archive.ubuntu.com/ubuntu jammy/universe amd64 libcholmod3 amd64 1:5.10.1+dfsg-4build1 [346 kB]\n",
            "Get:63 http://archive.ubuntu.com/ubuntu jammy/main amd64 libclone-perl amd64 0.45-1build3 [11.0 kB]\n",
            "Get:64 http://archive.ubuntu.com/ubuntu jammy/universe amd64 libcombblas1.16.0 amd64 1.6.2-8 [271 kB]\n",
            "Get:65 http://archive.ubuntu.com/ubuntu jammy/universe amd64 libcxsparse3 amd64 1:5.10.1+dfsg-4build1 [70.8 kB]\n",
            "Get:66 http://archive.ubuntu.com/ubuntu jammy/main amd64 libdata-dump-perl all 1.25-1 [25.9 kB]\n",
            "Get:67 http://archive.ubuntu.com/ubuntu jammy/universe amd64 libemf1 amd64 1.0.13-3 [62.2 kB]\n",
            "Get:68 http://archive.ubuntu.com/ubuntu jammy/main amd64 libencode-locale-perl all 1.05-1.1 [11.8 kB]\n",
            "Get:69 http://archive.ubuntu.com/ubuntu jammy/main amd64 libfftw3-long3 amd64 3.3.8-2ubuntu8 [335 kB]\n",
            "Get:70 http://archive.ubuntu.com/ubuntu jammy/main amd64 libfftw3-single3 amd64 3.3.8-2ubuntu8 [800 kB]\n",
            "Get:71 http://archive.ubuntu.com/ubuntu jammy/universe amd64 libfftw3-mpi3 amd64 3.3.8-2ubuntu8 [48.9 kB]\n",
            "Get:72 http://archive.ubuntu.com/ubuntu jammy/main amd64 libhttp-date-perl all 6.05-1 [9,920 B]\n",
            "Get:73 http://archive.ubuntu.com/ubuntu jammy/main amd64 libfile-listing-perl all 6.14-1 [11.2 kB]\n",
            "Get:74 http://archive.ubuntu.com/ubuntu jammy/universe amd64 libfltk1.3 amd64 1.3.8-4 [628 kB]\n",
            "Get:75 http://archive.ubuntu.com/ubuntu jammy/universe amd64 libfltk-gl1.3 amd64 1.3.8-4 [45.9 kB]\n",
            "Get:76 http://archive.ubuntu.com/ubuntu jammy/main amd64 libfont-afm-perl all 1.20-3 [13.6 kB]\n",
            "Get:77 http://archive.ubuntu.com/ubuntu jammy/universe amd64 libglpk40 amd64 5.0-1 [361 kB]\n",
            "Get:78 http://archive.ubuntu.com/ubuntu jammy/main amd64 libwmflite-0.2-7 amd64 0.2.12-5ubuntu1 [68.9 kB]\n",
            "Get:79 http://archive.ubuntu.com/ubuntu jammy-updates/universe amd64 libgraphicsmagick-q16-3 amd64 1.4+really1.3.38-1ubuntu0.1 [1,238 kB]\n",
            "Get:80 http://archive.ubuntu.com/ubuntu jammy-updates/universe amd64 libgraphicsmagick++-q16-12 amd64 1.4+really1.3.38-1ubuntu0.1 [122 kB]\n",
            "Get:81 http://archive.ubuntu.com/ubuntu jammy/universe amd64 libhdf5-openmpi-103-1 amd64 1.10.7+repack-4ubuntu2 [1,344 kB]\n",
            "Get:82 http://archive.ubuntu.com/ubuntu jammy/main amd64 libhtml-tagset-perl all 3.20-4 [12.5 kB]\n",
            "Get:83 http://archive.ubuntu.com/ubuntu jammy/main amd64 liburi-perl all 5.10-1 [78.8 kB]\n",
            "Get:84 http://archive.ubuntu.com/ubuntu jammy/main amd64 libhtml-parser-perl amd64 3.76-1build2 [88.4 kB]\n",
            "Get:85 http://archive.ubuntu.com/ubuntu jammy/main amd64 libio-html-perl all 1.004-2 [15.4 kB]\n",
            "Get:86 http://archive.ubuntu.com/ubuntu jammy/main amd64 liblwp-mediatypes-perl all 6.04-1 [19.5 kB]\n",
            "Get:87 http://archive.ubuntu.com/ubuntu jammy/main amd64 libhttp-message-perl all 6.36-1 [76.8 kB]\n",
            "Get:88 http://archive.ubuntu.com/ubuntu jammy/main amd64 libhtml-form-perl all 6.07-1 [22.2 kB]\n",
            "Get:89 http://archive.ubuntu.com/ubuntu jammy/main amd64 libhtml-tree-perl all 5.07-2 [200 kB]\n",
            "Get:90 http://archive.ubuntu.com/ubuntu jammy/main amd64 libhtml-format-perl all 2.12-1.1 [41.3 kB]\n",
            "Get:91 http://archive.ubuntu.com/ubuntu jammy/main amd64 libhttp-cookies-perl all 6.10-1 [18.4 kB]\n",
            "Get:92 http://archive.ubuntu.com/ubuntu jammy-updates/main amd64 libhttp-daemon-perl all 6.13-1ubuntu0.1 [22.9 kB]\n",
            "Get:93 http://archive.ubuntu.com/ubuntu jammy/main amd64 libhttp-negotiate-perl all 6.01-1 [12.5 kB]\n",
            "Get:94 http://archive.ubuntu.com/ubuntu jammy/universe amd64 libptscotch-6.1 amd64 6.1.3-1 [702 kB]\n",
            "Get:95 http://archive.ubuntu.com/ubuntu jammy/universe amd64 libsuperlu-dist7 amd64 7.2.0+dfsg1-2 [545 kB]\n",
            "Get:96 http://archive.ubuntu.com/ubuntu jammy/universe amd64 libhypre-2.22.1 amd64 2.22.1-7 [1,612 kB]\n",
            "Get:97 http://archive.ubuntu.com/ubuntu jammy/main amd64 perl-openssl-defaults amd64 5build2 [7,542 B]\n",
            "Get:98 http://archive.ubuntu.com/ubuntu jammy/main amd64 libnet-ssleay-perl amd64 1.92-1build2 [327 kB]\n",
            "Get:99 http://archive.ubuntu.com/ubuntu jammy/main amd64 libio-socket-ssl-perl all 2.074-2 [192 kB]\n",
            "Get:100 http://archive.ubuntu.com/ubuntu jammy/universe amd64 libklu1 amd64 1:5.10.1+dfsg-4build1 [77.6 kB]\n",
            "Get:101 http://archive.ubuntu.com/ubuntu jammy/main amd64 libnet-http-perl all 6.22-1 [23.2 kB]\n",
            "Get:102 http://archive.ubuntu.com/ubuntu jammy/main amd64 libtry-tiny-perl all 0.31-1 [21.8 kB]\n",
            "Get:103 http://archive.ubuntu.com/ubuntu jammy/main amd64 libwww-robotrules-perl all 6.02-1 [12.6 kB]\n",
            "Get:104 http://archive.ubuntu.com/ubuntu jammy/main amd64 libwww-perl all 6.61-1 [141 kB]\n",
            "Get:105 http://archive.ubuntu.com/ubuntu jammy/main amd64 liblwp-protocol-https-perl all 6.10-1 [10.9 kB]\n",
            "Get:106 http://archive.ubuntu.com/ubuntu jammy-updates/universe amd64 libmagick++-6.q16-8 amd64 8:6.9.11.60+dfsg-1.3ubuntu0.22.04.5 [157 kB]\n",
            "Get:107 http://archive.ubuntu.com/ubuntu jammy/main amd64 libnet-smtp-ssl-perl all 1.04-1 [5,948 B]\n",
            "Get:108 http://archive.ubuntu.com/ubuntu jammy/main amd64 libmailtools-perl all 2.21-1 [80.7 kB]\n",
            "Get:109 http://archive.ubuntu.com/ubuntu jammy/universe amd64 libtrilinos-kokkos-13.2 amd64 13.2.0-1ubuntu1 [107 kB]\n",
            "Get:110 http://archive.ubuntu.com/ubuntu jammy/universe amd64 libtrilinos-teuchos-13.2 amd64 13.2.0-1ubuntu1 [1,193 kB]\n",
            "Get:111 http://archive.ubuntu.com/ubuntu jammy/universe amd64 libtrilinos-epetra-13.2 amd64 13.2.0-1ubuntu1 [458 kB]\n",
            "Get:112 http://archive.ubuntu.com/ubuntu jammy/universe amd64 libtrilinos-triutils-13.2 amd64 13.2.0-1ubuntu1 [130 kB]\n",
            "Get:113 http://archive.ubuntu.com/ubuntu jammy/universe amd64 libtrilinos-epetraext-13.2 amd64 13.2.0-1ubuntu1 [448 kB]\n",
            "Get:114 http://archive.ubuntu.com/ubuntu jammy/universe amd64 libtrilinos-trilinosss-13.2 amd64 13.2.0-1ubuntu1 [89.9 kB]\n",
            "Get:115 http://archive.ubuntu.com/ubuntu jammy/universe amd64 libtrilinos-amesos-13.2 amd64 13.2.0-1ubuntu1 [109 kB]\n",
            "Get:116 http://archive.ubuntu.com/ubuntu jammy/universe amd64 libtrilinos-aztecoo-13.2 amd64 13.2.0-1ubuntu1 [219 kB]\n",
            "Get:117 http://archive.ubuntu.com/ubuntu jammy/universe amd64 libtrilinos-galeri-13.2 amd64 13.2.0-1ubuntu1 [91.2 kB]\n",
            "Get:118 http://archive.ubuntu.com/ubuntu jammy/universe amd64 libtrilinos-ifpack-13.2 amd64 13.2.0-1ubuntu1 [443 kB]\n",
            "Get:119 http://archive.ubuntu.com/ubuntu jammy/universe amd64 libtrilinos-zoltan-13.2 amd64 13.2.0-1ubuntu1 [403 kB]\n",
            "Get:120 http://archive.ubuntu.com/ubuntu jammy/universe amd64 libtrilinos-ml-13.2 amd64 13.2.0-1ubuntu1 [992 kB]\n",
            "Get:121 http://archive.ubuntu.com/ubuntu jammy/universe amd64 libumfpack5 amd64 1:5.10.1+dfsg-4build1 [250 kB]\n",
            "Get:122 http://archive.ubuntu.com/ubuntu jammy/universe amd64 libpetsc-real3.15 amd64 3.15.5+dfsg1-1build2 [6,095 kB]\n",
            "Get:123 http://archive.ubuntu.com/ubuntu jammy/universe amd64 libplot2c2 amd64 2.6-11 [506 kB]\n",
            "Get:124 http://archive.ubuntu.com/ubuntu jammy/universe amd64 libportaudio2 amd64 19.6.0-1.1 [65.3 kB]\n",
            "Get:125 http://archive.ubuntu.com/ubuntu jammy/universe amd64 libzip4 amd64 1.7.3-1ubuntu2 [55.0 kB]\n",
            "Get:126 http://archive.ubuntu.com/ubuntu jammy/universe amd64 libpstoedit0c2a amd64 3.78-1 [373 kB]\n",
            "Get:127 http://archive.ubuntu.com/ubuntu jammy/universe amd64 libqrupdate1 amd64 1.1.2-4 [36.8 kB]\n",
            "Get:128 http://archive.ubuntu.com/ubuntu jammy/universe amd64 libqscintilla2-qt5-l10n all 2.11.6+dfsg-4 [54.8 kB]\n",
            "Get:129 http://archive.ubuntu.com/ubuntu jammy/universe amd64 libqscintilla2-qt5-15 amd64 2.11.6+dfsg-4 [1,217 kB]\n",
            "Get:130 http://archive.ubuntu.com/ubuntu jammy-updates/universe amd64 libqt5sql5 amd64 5.15.3+dfsg-2ubuntu0.2 [123 kB]\n",
            "Get:131 http://archive.ubuntu.com/ubuntu jammy/universe amd64 libqt5help5 amd64 5.15.3-1 [162 kB]\n",
            "Get:132 http://archive.ubuntu.com/ubuntu jammy-updates/universe amd64 libqt5sql5-sqlite amd64 5.15.3+dfsg-2ubuntu0.2 [53.0 kB]\n",
            "Get:133 http://archive.ubuntu.com/ubuntu jammy-updates/universe amd64 libqt5xml5 amd64 5.15.3+dfsg-2ubuntu0.2 [124 kB]\n",
            "Get:134 http://archive.ubuntu.com/ubuntu jammy/universe amd64 libsundials-ida4 amd64 5.8.0+dfsg-1build1 [80.1 kB]\n",
            "Get:135 http://archive.ubuntu.com/ubuntu jammy/universe amd64 libsundials-nvecparallel-petsc4 amd64 5.8.0+dfsg-1build1 [31.1 kB]\n",
            "Get:136 http://archive.ubuntu.com/ubuntu jammy/universe amd64 libsundials-nvecserial4 amd64 5.8.0+dfsg-1build1 [40.9 kB]\n",
            "Get:137 http://archive.ubuntu.com/ubuntu jammy/universe amd64 libsundials-sunmatrix2 amd64 5.8.0+dfsg-1build1 [42.9 kB]\n",
            "Get:138 http://archive.ubuntu.com/ubuntu jammy/universe amd64 libsundials-sunlinsol2 amd64 5.8.0+dfsg-1build1 [93.7 kB]\n",
            "Get:139 http://archive.ubuntu.com/ubuntu jammy/universe amd64 libtext-unidecode-perl all 1.30-1 [99.0 kB]\n",
            "Get:140 http://archive.ubuntu.com/ubuntu jammy/main amd64 libwacom-bin amd64 2.2.0-1 [13.6 kB]\n",
            "Get:141 http://archive.ubuntu.com/ubuntu jammy/main amd64 libxml-namespacesupport-perl all 1.12-1.1 [13.2 kB]\n",
            "Get:142 http://archive.ubuntu.com/ubuntu jammy/main amd64 libxml-sax-base-perl all 1.09-1.1 [19.0 kB]\n",
            "Get:143 http://archive.ubuntu.com/ubuntu jammy/main amd64 libxml-sax-perl all 1.02+dfsg-3 [57.0 kB]\n",
            "Get:144 http://archive.ubuntu.com/ubuntu jammy/main amd64 libxml-libxml-perl amd64 2.0207+dfsg+really+2.0134-1 [325 kB]\n",
            "Get:145 http://archive.ubuntu.com/ubuntu jammy/main amd64 libxml-parser-perl amd64 2.46-3build1 [212 kB]\n",
            "Get:146 http://archive.ubuntu.com/ubuntu jammy/main amd64 libxml-sax-expat-perl all 0.51-1 [10.5 kB]\n",
            "Get:147 http://archive.ubuntu.com/ubuntu jammy/universe amd64 pstoedit amd64 3.78-1 [405 kB]\n",
            "Get:148 http://archive.ubuntu.com/ubuntu jammy-updates/universe amd64 qt5-gtk-platformtheme amd64 5.15.3+dfsg-2ubuntu0.2 [130 kB]\n",
            "Get:149 http://archive.ubuntu.com/ubuntu jammy/universe amd64 qttranslations5-l10n all 5.15.3-1 [1,983 kB]\n",
            "Get:150 http://archive.ubuntu.com/ubuntu jammy/universe amd64 texinfo amd64 6.8-4build1 [1,423 kB]\n",
            "Get:151 http://archive.ubuntu.com/ubuntu jammy/main amd64 libauthen-sasl-perl all 2.1600-1.1 [43.1 kB]\n",
            "Get:152 http://archive.ubuntu.com/ubuntu jammy/main amd64 libglu1-mesa amd64 9.0.2-1 [145 kB]\n",
            "Get:153 http://archive.ubuntu.com/ubuntu jammy/universe amd64 octave-common all 6.4.0-2 [5,457 kB]\n",
            "Get:154 http://archive.ubuntu.com/ubuntu jammy/universe amd64 octave amd64 6.4.0-2 [9,330 kB]\n",
            "Get:155 http://archive.ubuntu.com/ubuntu jammy/universe amd64 octave-doc all 6.4.0-2 [7,665 kB]\n",
            "Fetched 95.2 MB in 27s (3,577 kB/s)\n",
            "Extracting templates from packages: 100%\n",
            "Selecting previously unselected package install-info.\n",
            "(Reading database ... 126109 files and directories currently installed.)\n",
            "Preparing to unpack .../install-info_6.8-4build1_amd64.deb ...\n",
            "Unpacking install-info (6.8-4build1) ...\n",
            "Setting up install-info (6.8-4build1) ...\n",
            "Selecting previously unselected package fonts-droid-fallback.\n",
            "(Reading database ... 126122 files and directories currently installed.)\n",
            "Preparing to unpack .../000-fonts-droid-fallback_1%3a6.0.1r16-1.1build1_all.deb ...\n",
            "Unpacking fonts-droid-fallback (1:6.0.1r16-1.1build1) ...\n",
            "Selecting previously unselected package libfftw3-double3:amd64.\n",
            "Preparing to unpack .../001-libfftw3-double3_3.3.8-2ubuntu8_amd64.deb ...\n",
            "Unpacking libfftw3-double3:amd64 (3.3.8-2ubuntu8) ...\n",
            "Selecting previously unselected package liblqr-1-0:amd64.\n",
            "Preparing to unpack .../002-liblqr-1-0_0.4.2-2.1_amd64.deb ...\n",
            "Unpacking liblqr-1-0:amd64 (0.4.2-2.1) ...\n",
            "Selecting previously unselected package imagemagick-6-common.\n",
            "Preparing to unpack .../003-imagemagick-6-common_8%3a6.9.11.60+dfsg-1.3ubuntu0.22.04.5_all.deb ...\n",
            "Unpacking imagemagick-6-common (8:6.9.11.60+dfsg-1.3ubuntu0.22.04.5) ...\n",
            "Selecting previously unselected package libmagickcore-6.q16-6:amd64.\n",
            "Preparing to unpack .../004-libmagickcore-6.q16-6_8%3a6.9.11.60+dfsg-1.3ubuntu0.22.04.5_amd64.deb ...\n",
            "Unpacking libmagickcore-6.q16-6:amd64 (8:6.9.11.60+dfsg-1.3ubuntu0.22.04.5) ...\n",
            "Selecting previously unselected package libmagickwand-6.q16-6:amd64.\n",
            "Preparing to unpack .../005-libmagickwand-6.q16-6_8%3a6.9.11.60+dfsg-1.3ubuntu0.22.04.5_amd64.deb ...\n",
            "Unpacking libmagickwand-6.q16-6:amd64 (8:6.9.11.60+dfsg-1.3ubuntu0.22.04.5) ...\n",
            "Selecting previously unselected package libqt5core5a:amd64.\n",
            "Preparing to unpack .../006-libqt5core5a_5.15.3+dfsg-2ubuntu0.2_amd64.deb ...\n",
            "Unpacking libqt5core5a:amd64 (5.15.3+dfsg-2ubuntu0.2) ...\n",
            "Selecting previously unselected package libevdev2:amd64.\n",
            "Preparing to unpack .../007-libevdev2_1.12.1+dfsg-1_amd64.deb ...\n",
            "Unpacking libevdev2:amd64 (1.12.1+dfsg-1) ...\n",
            "Selecting previously unselected package libmtdev1:amd64.\n",
            "Preparing to unpack .../008-libmtdev1_1.1.6-1build4_amd64.deb ...\n",
            "Unpacking libmtdev1:amd64 (1.1.6-1build4) ...\n",
            "Selecting previously unselected package libgudev-1.0-0:amd64.\n",
            "Preparing to unpack .../009-libgudev-1.0-0_1%3a237-2build1_amd64.deb ...\n",
            "Unpacking libgudev-1.0-0:amd64 (1:237-2build1) ...\n",
            "Selecting previously unselected package libwacom-common.\n",
            "Preparing to unpack .../010-libwacom-common_2.2.0-1_all.deb ...\n",
            "Unpacking libwacom-common (2.2.0-1) ...\n",
            "Selecting previously unselected package libwacom9:amd64.\n",
            "Preparing to unpack .../011-libwacom9_2.2.0-1_amd64.deb ...\n",
            "Unpacking libwacom9:amd64 (2.2.0-1) ...\n",
            "Selecting previously unselected package libinput-bin.\n",
            "Preparing to unpack .../012-libinput-bin_1.20.0-1ubuntu0.3_amd64.deb ...\n",
            "Unpacking libinput-bin (1.20.0-1ubuntu0.3) ...\n",
            "Selecting previously unselected package libinput10:amd64.\n",
            "Preparing to unpack .../013-libinput10_1.20.0-1ubuntu0.3_amd64.deb ...\n",
            "Unpacking libinput10:amd64 (1.20.0-1ubuntu0.3) ...\n",
            "Selecting previously unselected package libmd4c0:amd64.\n",
            "Preparing to unpack .../014-libmd4c0_0.4.8-1_amd64.deb ...\n",
            "Unpacking libmd4c0:amd64 (0.4.8-1) ...\n",
            "Selecting previously unselected package libqt5dbus5:amd64.\n",
            "Preparing to unpack .../015-libqt5dbus5_5.15.3+dfsg-2ubuntu0.2_amd64.deb ...\n",
            "Unpacking libqt5dbus5:amd64 (5.15.3+dfsg-2ubuntu0.2) ...\n",
            "Selecting previously unselected package libqt5network5:amd64.\n",
            "Preparing to unpack .../016-libqt5network5_5.15.3+dfsg-2ubuntu0.2_amd64.deb ...\n",
            "Unpacking libqt5network5:amd64 (5.15.3+dfsg-2ubuntu0.2) ...\n",
            "Selecting previously unselected package libxcb-icccm4:amd64.\n",
            "Preparing to unpack .../017-libxcb-icccm4_0.4.1-1.1build2_amd64.deb ...\n",
            "Unpacking libxcb-icccm4:amd64 (0.4.1-1.1build2) ...\n",
            "Selecting previously unselected package libxcb-util1:amd64.\n",
            "Preparing to unpack .../018-libxcb-util1_0.4.0-1build2_amd64.deb ...\n",
            "Unpacking libxcb-util1:amd64 (0.4.0-1build2) ...\n",
            "Selecting previously unselected package libxcb-image0:amd64.\n",
            "Preparing to unpack .../019-libxcb-image0_0.4.0-2_amd64.deb ...\n",
            "Unpacking libxcb-image0:amd64 (0.4.0-2) ...\n",
            "Selecting previously unselected package libxcb-keysyms1:amd64.\n",
            "Preparing to unpack .../020-libxcb-keysyms1_0.4.0-1build3_amd64.deb ...\n",
            "Unpacking libxcb-keysyms1:amd64 (0.4.0-1build3) ...\n",
            "Selecting previously unselected package libxcb-render-util0:amd64.\n",
            "Preparing to unpack .../021-libxcb-render-util0_0.3.9-1build3_amd64.deb ...\n",
            "Unpacking libxcb-render-util0:amd64 (0.3.9-1build3) ...\n",
            "Selecting previously unselected package libxcb-xinerama0:amd64.\n",
            "Preparing to unpack .../022-libxcb-xinerama0_1.14-3ubuntu3_amd64.deb ...\n",
            "Unpacking libxcb-xinerama0:amd64 (1.14-3ubuntu3) ...\n",
            "Selecting previously unselected package libxcb-xinput0:amd64.\n",
            "Preparing to unpack .../023-libxcb-xinput0_1.14-3ubuntu3_amd64.deb ...\n",
            "Unpacking libxcb-xinput0:amd64 (1.14-3ubuntu3) ...\n",
            "Selecting previously unselected package libxcb-xkb1:amd64.\n",
            "Preparing to unpack .../024-libxcb-xkb1_1.14-3ubuntu3_amd64.deb ...\n",
            "Unpacking libxcb-xkb1:amd64 (1.14-3ubuntu3) ...\n",
            "Selecting previously unselected package libxkbcommon-x11-0:amd64.\n",
            "Preparing to unpack .../025-libxkbcommon-x11-0_1.4.0-1_amd64.deb ...\n",
            "Unpacking libxkbcommon-x11-0:amd64 (1.4.0-1) ...\n",
            "Selecting previously unselected package libqt5gui5:amd64.\n",
            "Preparing to unpack .../026-libqt5gui5_5.15.3+dfsg-2ubuntu0.2_amd64.deb ...\n",
            "Unpacking libqt5gui5:amd64 (5.15.3+dfsg-2ubuntu0.2) ...\n",
            "Selecting previously unselected package libqt5widgets5:amd64.\n",
            "Preparing to unpack .../027-libqt5widgets5_5.15.3+dfsg-2ubuntu0.2_amd64.deb ...\n",
            "Unpacking libqt5widgets5:amd64 (5.15.3+dfsg-2ubuntu0.2) ...\n",
            "Selecting previously unselected package libqt5svg5:amd64.\n",
            "Preparing to unpack .../028-libqt5svg5_5.15.3-1_amd64.deb ...\n",
            "Unpacking libqt5svg5:amd64 (5.15.3-1) ...\n",
            "Selecting previously unselected package poppler-data.\n",
            "Preparing to unpack .../029-poppler-data_0.4.11-1_all.deb ...\n",
            "Unpacking poppler-data (0.4.11-1) ...\n",
            "Selecting previously unselected package tex-common.\n",
            "Preparing to unpack .../030-tex-common_6.17_all.deb ...\n",
            "Unpacking tex-common (6.17) ...\n",
            "Selecting previously unselected package netbase.\n",
            "Preparing to unpack .../031-netbase_6.3_all.deb ...\n",
            "Unpacking netbase (6.3) ...\n",
            "Selecting previously unselected package info.\n",
            "Preparing to unpack .../032-info_6.8-4build1_amd64.deb ...\n",
            "Unpacking info (6.8-4build1) ...\n",
            "Selecting previously unselected package default-jre-headless.\n",
            "Preparing to unpack .../033-default-jre-headless_2%3a1.11-72build2_amd64.deb ...\n",
            "Unpacking default-jre-headless (2:1.11-72build2) ...\n",
            "Selecting previously unselected package fonts-urw-base35.\n",
            "Preparing to unpack .../034-fonts-urw-base35_20200910-1_all.deb ...\n",
            "Unpacking fonts-urw-base35 (20200910-1) ...\n",
            "Selecting previously unselected package libgs9-common.\n",
            "Preparing to unpack .../035-libgs9-common_9.55.0~dfsg1-0ubuntu5.11_all.deb ...\n",
            "Unpacking libgs9-common (9.55.0~dfsg1-0ubuntu5.11) ...\n",
            "Selecting previously unselected package libidn12:amd64.\n",
            "Preparing to unpack .../036-libidn12_1.38-4ubuntu1_amd64.deb ...\n",
            "Unpacking libidn12:amd64 (1.38-4ubuntu1) ...\n",
            "Selecting previously unselected package libijs-0.35:amd64.\n",
            "Preparing to unpack .../037-libijs-0.35_0.35-15build2_amd64.deb ...\n",
            "Unpacking libijs-0.35:amd64 (0.35-15build2) ...\n",
            "Selecting previously unselected package libjbig2dec0:amd64.\n",
            "Preparing to unpack .../038-libjbig2dec0_0.19-3build2_amd64.deb ...\n",
            "Unpacking libjbig2dec0:amd64 (0.19-3build2) ...\n",
            "Selecting previously unselected package libgs9:amd64.\n",
            "Preparing to unpack .../039-libgs9_9.55.0~dfsg1-0ubuntu5.11_amd64.deb ...\n",
            "Unpacking libgs9:amd64 (9.55.0~dfsg1-0ubuntu5.11) ...\n",
            "Selecting previously unselected package ghostscript.\n",
            "Preparing to unpack .../040-ghostscript_9.55.0~dfsg1-0ubuntu5.11_amd64.deb ...\n",
            "Unpacking ghostscript (9.55.0~dfsg1-0ubuntu5.11) ...\n",
            "Selecting previously unselected package epstool.\n",
            "Preparing to unpack .../041-epstool_3.09-3_amd64.deb ...\n",
            "Unpacking epstool (3.09-3) ...\n",
            "Selecting previously unselected package fonts-freefont-otf.\n",
            "Preparing to unpack .../042-fonts-freefont-otf_20120503-10build1_all.deb ...\n",
            "Unpacking fonts-freefont-otf (20120503-10build1) ...\n",
            "Selecting previously unselected package fonts-noto-mono.\n",
            "Preparing to unpack .../043-fonts-noto-mono_20201225-1build1_all.deb ...\n",
            "Unpacking fonts-noto-mono (20201225-1build1) ...\n",
            "Selecting previously unselected package aglfn.\n",
            "Preparing to unpack .../044-aglfn_1.7+git20191031.4036a9c-2_all.deb ...\n",
            "Unpacking aglfn (1.7+git20191031.4036a9c-2) ...\n",
            "Selecting previously unselected package gnuplot-data.\n",
            "Preparing to unpack .../045-gnuplot-data_5.4.2+dfsg2-2_all.deb ...\n",
            "Unpacking gnuplot-data (5.4.2+dfsg2-2) ...\n",
            "Selecting previously unselected package liblua5.4-0:amd64.\n",
            "Preparing to unpack .../046-liblua5.4-0_5.4.4-1_amd64.deb ...\n",
            "Unpacking liblua5.4-0:amd64 (5.4.4-1) ...\n",
            "Selecting previously unselected package libqt5printsupport5:amd64.\n",
            "Preparing to unpack .../047-libqt5printsupport5_5.15.3+dfsg-2ubuntu0.2_amd64.deb ...\n",
            "Unpacking libqt5printsupport5:amd64 (5.15.3+dfsg-2ubuntu0.2) ...\n",
            "Selecting previously unselected package libwxbase3.0-0v5:amd64.\n",
            "Preparing to unpack .../048-libwxbase3.0-0v5_3.0.5.1+dfsg-4_amd64.deb ...\n",
            "Unpacking libwxbase3.0-0v5:amd64 (3.0.5.1+dfsg-4) ...\n",
            "Selecting previously unselected package libnotify4:amd64.\n",
            "Preparing to unpack .../049-libnotify4_0.7.9-3ubuntu5.22.04.1_amd64.deb ...\n",
            "Unpacking libnotify4:amd64 (0.7.9-3ubuntu5.22.04.1) ...\n",
            "Selecting previously unselected package libwxgtk3.0-gtk3-0v5:amd64.\n",
            "Preparing to unpack .../050-libwxgtk3.0-gtk3-0v5_3.0.5.1+dfsg-4_amd64.deb ...\n",
            "Unpacking libwxgtk3.0-gtk3-0v5:amd64 (3.0.5.1+dfsg-4) ...\n",
            "Selecting previously unselected package gnuplot-qt.\n",
            "Preparing to unpack .../051-gnuplot-qt_5.4.2+dfsg2-2_amd64.deb ...\n",
            "Unpacking gnuplot-qt (5.4.2+dfsg2-2) ...\n",
            "Selecting previously unselected package gsfonts.\n",
            "Preparing to unpack .../052-gsfonts_1%3a8.11+urwcyr1.0.7~pre44-4.5_all.deb ...\n",
            "Unpacking gsfonts (1:8.11+urwcyr1.0.7~pre44-4.5) ...\n",
            "Selecting previously unselected package libsuitesparseconfig5:amd64.\n",
            "Preparing to unpack .../053-libsuitesparseconfig5_1%3a5.10.1+dfsg-4build1_amd64.deb ...\n",
            "Unpacking libsuitesparseconfig5:amd64 (1:5.10.1+dfsg-4build1) ...\n",
            "Selecting previously unselected package libamd2:amd64.\n",
            "Preparing to unpack .../054-libamd2_1%3a5.10.1+dfsg-4build1_amd64.deb ...\n",
            "Unpacking libamd2:amd64 (1:5.10.1+dfsg-4build1) ...\n",
            "Selecting previously unselected package libbtf1:amd64.\n",
            "Preparing to unpack .../055-libbtf1_1%3a5.10.1+dfsg-4build1_amd64.deb ...\n",
            "Unpacking libbtf1:amd64 (1:5.10.1+dfsg-4build1) ...\n",
            "Selecting previously unselected package libcamd2:amd64.\n",
            "Preparing to unpack .../056-libcamd2_1%3a5.10.1+dfsg-4build1_amd64.deb ...\n",
            "Unpacking libcamd2:amd64 (1:5.10.1+dfsg-4build1) ...\n",
            "Selecting previously unselected package libccolamd2:amd64.\n",
            "Preparing to unpack .../057-libccolamd2_1%3a5.10.1+dfsg-4build1_amd64.deb ...\n",
            "Unpacking libccolamd2:amd64 (1:5.10.1+dfsg-4build1) ...\n",
            "Selecting previously unselected package libcolamd2:amd64.\n",
            "Preparing to unpack .../058-libcolamd2_1%3a5.10.1+dfsg-4build1_amd64.deb ...\n",
            "Unpacking libcolamd2:amd64 (1:5.10.1+dfsg-4build1) ...\n",
            "Selecting previously unselected package libmetis5:amd64.\n",
            "Preparing to unpack .../059-libmetis5_5.1.0.dfsg-7build2_amd64.deb ...\n",
            "Unpacking libmetis5:amd64 (5.1.0.dfsg-7build2) ...\n",
            "Selecting previously unselected package libcholmod3:amd64.\n",
            "Preparing to unpack .../060-libcholmod3_1%3a5.10.1+dfsg-4build1_amd64.deb ...\n",
            "Unpacking libcholmod3:amd64 (1:5.10.1+dfsg-4build1) ...\n",
            "Selecting previously unselected package libclone-perl.\n",
            "Preparing to unpack .../061-libclone-perl_0.45-1build3_amd64.deb ...\n",
            "Unpacking libclone-perl (0.45-1build3) ...\n",
            "Selecting previously unselected package libcombblas1.16.0:amd64.\n",
            "Preparing to unpack .../062-libcombblas1.16.0_1.6.2-8_amd64.deb ...\n",
            "Unpacking libcombblas1.16.0:amd64 (1.6.2-8) ...\n",
            "Selecting previously unselected package libcxsparse3:amd64.\n",
            "Preparing to unpack .../063-libcxsparse3_1%3a5.10.1+dfsg-4build1_amd64.deb ...\n",
            "Unpacking libcxsparse3:amd64 (1:5.10.1+dfsg-4build1) ...\n",
            "Selecting previously unselected package libdata-dump-perl.\n",
            "Preparing to unpack .../064-libdata-dump-perl_1.25-1_all.deb ...\n",
            "Unpacking libdata-dump-perl (1.25-1) ...\n",
            "Selecting previously unselected package libemf1:amd64.\n",
            "Preparing to unpack .../065-libemf1_1.0.13-3_amd64.deb ...\n",
            "Unpacking libemf1:amd64 (1.0.13-3) ...\n",
            "Selecting previously unselected package libencode-locale-perl.\n",
            "Preparing to unpack .../066-libencode-locale-perl_1.05-1.1_all.deb ...\n",
            "Unpacking libencode-locale-perl (1.05-1.1) ...\n",
            "Selecting previously unselected package libfftw3-long3:amd64.\n",
            "Preparing to unpack .../067-libfftw3-long3_3.3.8-2ubuntu8_amd64.deb ...\n",
            "Unpacking libfftw3-long3:amd64 (3.3.8-2ubuntu8) ...\n",
            "Selecting previously unselected package libfftw3-single3:amd64.\n",
            "Preparing to unpack .../068-libfftw3-single3_3.3.8-2ubuntu8_amd64.deb ...\n",
            "Unpacking libfftw3-single3:amd64 (3.3.8-2ubuntu8) ...\n",
            "Selecting previously unselected package libfftw3-mpi3:amd64.\n",
            "Preparing to unpack .../069-libfftw3-mpi3_3.3.8-2ubuntu8_amd64.deb ...\n",
            "Unpacking libfftw3-mpi3:amd64 (3.3.8-2ubuntu8) ...\n",
            "Selecting previously unselected package libhttp-date-perl.\n",
            "Preparing to unpack .../070-libhttp-date-perl_6.05-1_all.deb ...\n",
            "Unpacking libhttp-date-perl (6.05-1) ...\n",
            "Selecting previously unselected package libfile-listing-perl.\n",
            "Preparing to unpack .../071-libfile-listing-perl_6.14-1_all.deb ...\n",
            "Unpacking libfile-listing-perl (6.14-1) ...\n",
            "Selecting previously unselected package libfltk1.3:amd64.\n",
            "Preparing to unpack .../072-libfltk1.3_1.3.8-4_amd64.deb ...\n",
            "Unpacking libfltk1.3:amd64 (1.3.8-4) ...\n",
            "Selecting previously unselected package libfltk-gl1.3:amd64.\n",
            "Preparing to unpack .../073-libfltk-gl1.3_1.3.8-4_amd64.deb ...\n",
            "Unpacking libfltk-gl1.3:amd64 (1.3.8-4) ...\n",
            "Selecting previously unselected package libfont-afm-perl.\n",
            "Preparing to unpack .../074-libfont-afm-perl_1.20-3_all.deb ...\n",
            "Unpacking libfont-afm-perl (1.20-3) ...\n",
            "Selecting previously unselected package libglpk40:amd64.\n",
            "Preparing to unpack .../075-libglpk40_5.0-1_amd64.deb ...\n",
            "Unpacking libglpk40:amd64 (5.0-1) ...\n",
            "Selecting previously unselected package libwmflite-0.2-7:amd64.\n",
            "Preparing to unpack .../076-libwmflite-0.2-7_0.2.12-5ubuntu1_amd64.deb ...\n",
            "Unpacking libwmflite-0.2-7:amd64 (0.2.12-5ubuntu1) ...\n",
            "Selecting previously unselected package libgraphicsmagick-q16-3.\n",
            "Preparing to unpack .../077-libgraphicsmagick-q16-3_1.4+really1.3.38-1ubuntu0.1_amd64.deb ...\n",
            "Unpacking libgraphicsmagick-q16-3 (1.4+really1.3.38-1ubuntu0.1) ...\n",
            "Selecting previously unselected package libgraphicsmagick++-q16-12.\n",
            "Preparing to unpack .../078-libgraphicsmagick++-q16-12_1.4+really1.3.38-1ubuntu0.1_amd64.deb ...\n",
            "Unpacking libgraphicsmagick++-q16-12 (1.4+really1.3.38-1ubuntu0.1) ...\n",
            "Selecting previously unselected package libhdf5-openmpi-103-1:amd64.\n",
            "Preparing to unpack .../079-libhdf5-openmpi-103-1_1.10.7+repack-4ubuntu2_amd64.deb ...\n",
            "Unpacking libhdf5-openmpi-103-1:amd64 (1.10.7+repack-4ubuntu2) ...\n",
            "Selecting previously unselected package libhtml-tagset-perl.\n",
            "Preparing to unpack .../080-libhtml-tagset-perl_3.20-4_all.deb ...\n",
            "Unpacking libhtml-tagset-perl (3.20-4) ...\n",
            "Selecting previously unselected package liburi-perl.\n",
            "Preparing to unpack .../081-liburi-perl_5.10-1_all.deb ...\n",
            "Unpacking liburi-perl (5.10-1) ...\n",
            "Selecting previously unselected package libhtml-parser-perl:amd64.\n",
            "Preparing to unpack .../082-libhtml-parser-perl_3.76-1build2_amd64.deb ...\n",
            "Unpacking libhtml-parser-perl:amd64 (3.76-1build2) ...\n",
            "Selecting previously unselected package libio-html-perl.\n",
            "Preparing to unpack .../083-libio-html-perl_1.004-2_all.deb ...\n",
            "Unpacking libio-html-perl (1.004-2) ...\n",
            "Selecting previously unselected package liblwp-mediatypes-perl.\n",
            "Preparing to unpack .../084-liblwp-mediatypes-perl_6.04-1_all.deb ...\n",
            "Unpacking liblwp-mediatypes-perl (6.04-1) ...\n",
            "Selecting previously unselected package libhttp-message-perl.\n",
            "Preparing to unpack .../085-libhttp-message-perl_6.36-1_all.deb ...\n",
            "Unpacking libhttp-message-perl (6.36-1) ...\n",
            "Selecting previously unselected package libhtml-form-perl.\n",
            "Preparing to unpack .../086-libhtml-form-perl_6.07-1_all.deb ...\n",
            "Unpacking libhtml-form-perl (6.07-1) ...\n",
            "Selecting previously unselected package libhtml-tree-perl.\n",
            "Preparing to unpack .../087-libhtml-tree-perl_5.07-2_all.deb ...\n",
            "Unpacking libhtml-tree-perl (5.07-2) ...\n",
            "Selecting previously unselected package libhtml-format-perl.\n",
            "Preparing to unpack .../088-libhtml-format-perl_2.12-1.1_all.deb ...\n",
            "Unpacking libhtml-format-perl (2.12-1.1) ...\n",
            "Selecting previously unselected package libhttp-cookies-perl.\n",
            "Preparing to unpack .../089-libhttp-cookies-perl_6.10-1_all.deb ...\n",
            "Unpacking libhttp-cookies-perl (6.10-1) ...\n",
            "Selecting previously unselected package libhttp-daemon-perl.\n",
            "Preparing to unpack .../090-libhttp-daemon-perl_6.13-1ubuntu0.1_all.deb ...\n",
            "Unpacking libhttp-daemon-perl (6.13-1ubuntu0.1) ...\n",
            "Selecting previously unselected package libhttp-negotiate-perl.\n",
            "Preparing to unpack .../091-libhttp-negotiate-perl_6.01-1_all.deb ...\n",
            "Unpacking libhttp-negotiate-perl (6.01-1) ...\n",
            "Selecting previously unselected package libptscotch-6.1:amd64.\n",
            "Preparing to unpack .../092-libptscotch-6.1_6.1.3-1_amd64.deb ...\n",
            "Unpacking libptscotch-6.1:amd64 (6.1.3-1) ...\n",
            "Selecting previously unselected package libsuperlu-dist7:amd64.\n",
            "Preparing to unpack .../093-libsuperlu-dist7_7.2.0+dfsg1-2_amd64.deb ...\n",
            "Unpacking libsuperlu-dist7:amd64 (7.2.0+dfsg1-2) ...\n",
            "Selecting previously unselected package libhypre-2.22.1:amd64.\n",
            "Preparing to unpack .../094-libhypre-2.22.1_2.22.1-7_amd64.deb ...\n",
            "Unpacking libhypre-2.22.1:amd64 (2.22.1-7) ...\n",
            "Selecting previously unselected package perl-openssl-defaults:amd64.\n",
            "Preparing to unpack .../095-perl-openssl-defaults_5build2_amd64.deb ...\n",
            "Unpacking perl-openssl-defaults:amd64 (5build2) ...\n",
            "Selecting previously unselected package libnet-ssleay-perl:amd64.\n",
            "Preparing to unpack .../096-libnet-ssleay-perl_1.92-1build2_amd64.deb ...\n",
            "Unpacking libnet-ssleay-perl:amd64 (1.92-1build2) ...\n",
            "Selecting previously unselected package libio-socket-ssl-perl.\n",
            "Preparing to unpack .../097-libio-socket-ssl-perl_2.074-2_all.deb ...\n",
            "Unpacking libio-socket-ssl-perl (2.074-2) ...\n",
            "Selecting previously unselected package libklu1:amd64.\n",
            "Preparing to unpack .../098-libklu1_1%3a5.10.1+dfsg-4build1_amd64.deb ...\n",
            "Unpacking libklu1:amd64 (1:5.10.1+dfsg-4build1) ...\n",
            "Selecting previously unselected package libnet-http-perl.\n",
            "Preparing to unpack .../099-libnet-http-perl_6.22-1_all.deb ...\n",
            "Unpacking libnet-http-perl (6.22-1) ...\n",
            "Selecting previously unselected package libtry-tiny-perl.\n",
            "Preparing to unpack .../100-libtry-tiny-perl_0.31-1_all.deb ...\n",
            "Unpacking libtry-tiny-perl (0.31-1) ...\n",
            "Selecting previously unselected package libwww-robotrules-perl.\n",
            "Preparing to unpack .../101-libwww-robotrules-perl_6.02-1_all.deb ...\n",
            "Unpacking libwww-robotrules-perl (6.02-1) ...\n",
            "Selecting previously unselected package libwww-perl.\n",
            "Preparing to unpack .../102-libwww-perl_6.61-1_all.deb ...\n",
            "Unpacking libwww-perl (6.61-1) ...\n",
            "Selecting previously unselected package liblwp-protocol-https-perl.\n",
            "Preparing to unpack .../103-liblwp-protocol-https-perl_6.10-1_all.deb ...\n",
            "Unpacking liblwp-protocol-https-perl (6.10-1) ...\n",
            "Selecting previously unselected package libmagick++-6.q16-8:amd64.\n",
            "Preparing to unpack .../104-libmagick++-6.q16-8_8%3a6.9.11.60+dfsg-1.3ubuntu0.22.04.5_amd64.deb ...\n",
            "Unpacking libmagick++-6.q16-8:amd64 (8:6.9.11.60+dfsg-1.3ubuntu0.22.04.5) ...\n",
            "Selecting previously unselected package libnet-smtp-ssl-perl.\n",
            "Preparing to unpack .../105-libnet-smtp-ssl-perl_1.04-1_all.deb ...\n",
            "Unpacking libnet-smtp-ssl-perl (1.04-1) ...\n",
            "Selecting previously unselected package libmailtools-perl.\n",
            "Preparing to unpack .../106-libmailtools-perl_2.21-1_all.deb ...\n",
            "Unpacking libmailtools-perl (2.21-1) ...\n",
            "Selecting previously unselected package libtrilinos-kokkos-13.2:amd64.\n",
            "Preparing to unpack .../107-libtrilinos-kokkos-13.2_13.2.0-1ubuntu1_amd64.deb ...\n",
            "Unpacking libtrilinos-kokkos-13.2:amd64 (13.2.0-1ubuntu1) ...\n",
            "Selecting previously unselected package libtrilinos-teuchos-13.2:amd64.\n",
            "Preparing to unpack .../108-libtrilinos-teuchos-13.2_13.2.0-1ubuntu1_amd64.deb ...\n",
            "Unpacking libtrilinos-teuchos-13.2:amd64 (13.2.0-1ubuntu1) ...\n",
            "Selecting previously unselected package libtrilinos-epetra-13.2:amd64.\n",
            "Preparing to unpack .../109-libtrilinos-epetra-13.2_13.2.0-1ubuntu1_amd64.deb ...\n",
            "Unpacking libtrilinos-epetra-13.2:amd64 (13.2.0-1ubuntu1) ...\n",
            "Selecting previously unselected package libtrilinos-triutils-13.2:amd64.\n",
            "Preparing to unpack .../110-libtrilinos-triutils-13.2_13.2.0-1ubuntu1_amd64.deb ...\n",
            "Unpacking libtrilinos-triutils-13.2:amd64 (13.2.0-1ubuntu1) ...\n",
            "Selecting previously unselected package libtrilinos-epetraext-13.2:amd64.\n",
            "Preparing to unpack .../111-libtrilinos-epetraext-13.2_13.2.0-1ubuntu1_amd64.deb ...\n",
            "Unpacking libtrilinos-epetraext-13.2:amd64 (13.2.0-1ubuntu1) ...\n",
            "Selecting previously unselected package libtrilinos-trilinosss-13.2:amd64.\n",
            "Preparing to unpack .../112-libtrilinos-trilinosss-13.2_13.2.0-1ubuntu1_amd64.deb ...\n",
            "Unpacking libtrilinos-trilinosss-13.2:amd64 (13.2.0-1ubuntu1) ...\n",
            "Selecting previously unselected package libtrilinos-amesos-13.2:amd64.\n",
            "Preparing to unpack .../113-libtrilinos-amesos-13.2_13.2.0-1ubuntu1_amd64.deb ...\n",
            "Unpacking libtrilinos-amesos-13.2:amd64 (13.2.0-1ubuntu1) ...\n",
            "Selecting previously unselected package libtrilinos-aztecoo-13.2:amd64.\n",
            "Preparing to unpack .../114-libtrilinos-aztecoo-13.2_13.2.0-1ubuntu1_amd64.deb ...\n",
            "Unpacking libtrilinos-aztecoo-13.2:amd64 (13.2.0-1ubuntu1) ...\n",
            "Selecting previously unselected package libtrilinos-galeri-13.2:amd64.\n",
            "Preparing to unpack .../115-libtrilinos-galeri-13.2_13.2.0-1ubuntu1_amd64.deb ...\n",
            "Unpacking libtrilinos-galeri-13.2:amd64 (13.2.0-1ubuntu1) ...\n",
            "Selecting previously unselected package libtrilinos-ifpack-13.2:amd64.\n",
            "Preparing to unpack .../116-libtrilinos-ifpack-13.2_13.2.0-1ubuntu1_amd64.deb ...\n",
            "Unpacking libtrilinos-ifpack-13.2:amd64 (13.2.0-1ubuntu1) ...\n",
            "Selecting previously unselected package libtrilinos-zoltan-13.2:amd64.\n",
            "Preparing to unpack .../117-libtrilinos-zoltan-13.2_13.2.0-1ubuntu1_amd64.deb ...\n",
            "Unpacking libtrilinos-zoltan-13.2:amd64 (13.2.0-1ubuntu1) ...\n",
            "Selecting previously unselected package libtrilinos-ml-13.2:amd64.\n",
            "Preparing to unpack .../118-libtrilinos-ml-13.2_13.2.0-1ubuntu1_amd64.deb ...\n",
            "Unpacking libtrilinos-ml-13.2:amd64 (13.2.0-1ubuntu1) ...\n",
            "Selecting previously unselected package libumfpack5:amd64.\n",
            "Preparing to unpack .../119-libumfpack5_1%3a5.10.1+dfsg-4build1_amd64.deb ...\n",
            "Unpacking libumfpack5:amd64 (1:5.10.1+dfsg-4build1) ...\n",
            "Selecting previously unselected package libpetsc-real3.15:amd64.\n",
            "Preparing to unpack .../120-libpetsc-real3.15_3.15.5+dfsg1-1build2_amd64.deb ...\n",
            "Unpacking libpetsc-real3.15:amd64 (3.15.5+dfsg1-1build2) ...\n",
            "Selecting previously unselected package libplot2c2:amd64.\n",
            "Preparing to unpack .../121-libplot2c2_2.6-11_amd64.deb ...\n",
            "Unpacking libplot2c2:amd64 (2.6-11) ...\n",
            "Selecting previously unselected package libportaudio2:amd64.\n",
            "Preparing to unpack .../122-libportaudio2_19.6.0-1.1_amd64.deb ...\n",
            "Unpacking libportaudio2:amd64 (19.6.0-1.1) ...\n",
            "Selecting previously unselected package libzip4:amd64.\n",
            "Preparing to unpack .../123-libzip4_1.7.3-1ubuntu2_amd64.deb ...\n",
            "Unpacking libzip4:amd64 (1.7.3-1ubuntu2) ...\n",
            "Selecting previously unselected package libpstoedit0c2a:amd64.\n",
            "Preparing to unpack .../124-libpstoedit0c2a_3.78-1_amd64.deb ...\n",
            "Unpacking libpstoedit0c2a:amd64 (3.78-1) ...\n",
            "Selecting previously unselected package libqrupdate1:amd64.\n",
            "Preparing to unpack .../125-libqrupdate1_1.1.2-4_amd64.deb ...\n",
            "Unpacking libqrupdate1:amd64 (1.1.2-4) ...\n",
            "Selecting previously unselected package libqscintilla2-qt5-l10n.\n",
            "Preparing to unpack .../126-libqscintilla2-qt5-l10n_2.11.6+dfsg-4_all.deb ...\n",
            "Unpacking libqscintilla2-qt5-l10n (2.11.6+dfsg-4) ...\n",
            "Selecting previously unselected package libqscintilla2-qt5-15.\n",
            "Preparing to unpack .../127-libqscintilla2-qt5-15_2.11.6+dfsg-4_amd64.deb ...\n",
            "Unpacking libqscintilla2-qt5-15 (2.11.6+dfsg-4) ...\n",
            "Selecting previously unselected package libqt5sql5:amd64.\n",
            "Preparing to unpack .../128-libqt5sql5_5.15.3+dfsg-2ubuntu0.2_amd64.deb ...\n",
            "Unpacking libqt5sql5:amd64 (5.15.3+dfsg-2ubuntu0.2) ...\n",
            "Selecting previously unselected package libqt5help5:amd64.\n",
            "Preparing to unpack .../129-libqt5help5_5.15.3-1_amd64.deb ...\n",
            "Unpacking libqt5help5:amd64 (5.15.3-1) ...\n",
            "Selecting previously unselected package libqt5sql5-sqlite:amd64.\n",
            "Preparing to unpack .../130-libqt5sql5-sqlite_5.15.3+dfsg-2ubuntu0.2_amd64.deb ...\n",
            "Unpacking libqt5sql5-sqlite:amd64 (5.15.3+dfsg-2ubuntu0.2) ...\n",
            "Selecting previously unselected package libqt5xml5:amd64.\n",
            "Preparing to unpack .../131-libqt5xml5_5.15.3+dfsg-2ubuntu0.2_amd64.deb ...\n",
            "Unpacking libqt5xml5:amd64 (5.15.3+dfsg-2ubuntu0.2) ...\n",
            "Selecting previously unselected package libsundials-ida4:amd64.\n",
            "Preparing to unpack .../132-libsundials-ida4_5.8.0+dfsg-1build1_amd64.deb ...\n",
            "Unpacking libsundials-ida4:amd64 (5.8.0+dfsg-1build1) ...\n",
            "Selecting previously unselected package libsundials-nvecparallel-petsc4:amd64.\n",
            "Preparing to unpack .../133-libsundials-nvecparallel-petsc4_5.8.0+dfsg-1build1_amd64.deb ...\n",
            "Unpacking libsundials-nvecparallel-petsc4:amd64 (5.8.0+dfsg-1build1) ...\n",
            "Selecting previously unselected package libsundials-nvecserial4:amd64.\n",
            "Preparing to unpack .../134-libsundials-nvecserial4_5.8.0+dfsg-1build1_amd64.deb ...\n",
            "Unpacking libsundials-nvecserial4:amd64 (5.8.0+dfsg-1build1) ...\n",
            "Selecting previously unselected package libsundials-sunmatrix2:amd64.\n",
            "Preparing to unpack .../135-libsundials-sunmatrix2_5.8.0+dfsg-1build1_amd64.deb ...\n",
            "Unpacking libsundials-sunmatrix2:amd64 (5.8.0+dfsg-1build1) ...\n",
            "Selecting previously unselected package libsundials-sunlinsol2:amd64.\n",
            "Preparing to unpack .../136-libsundials-sunlinsol2_5.8.0+dfsg-1build1_amd64.deb ...\n",
            "Unpacking libsundials-sunlinsol2:amd64 (5.8.0+dfsg-1build1) ...\n",
            "Selecting previously unselected package libtext-unidecode-perl.\n",
            "Preparing to unpack .../137-libtext-unidecode-perl_1.30-1_all.deb ...\n",
            "Unpacking libtext-unidecode-perl (1.30-1) ...\n",
            "Selecting previously unselected package libwacom-bin.\n",
            "Preparing to unpack .../138-libwacom-bin_2.2.0-1_amd64.deb ...\n",
            "Unpacking libwacom-bin (2.2.0-1) ...\n",
            "Selecting previously unselected package libxml-namespacesupport-perl.\n",
            "Preparing to unpack .../139-libxml-namespacesupport-perl_1.12-1.1_all.deb ...\n",
            "Unpacking libxml-namespacesupport-perl (1.12-1.1) ...\n",
            "Selecting previously unselected package libxml-sax-base-perl.\n",
            "Preparing to unpack .../140-libxml-sax-base-perl_1.09-1.1_all.deb ...\n",
            "Unpacking libxml-sax-base-perl (1.09-1.1) ...\n",
            "Selecting previously unselected package libxml-sax-perl.\n",
            "Preparing to unpack .../141-libxml-sax-perl_1.02+dfsg-3_all.deb ...\n",
            "Unpacking libxml-sax-perl (1.02+dfsg-3) ...\n",
            "Selecting previously unselected package libxml-libxml-perl.\n",
            "Preparing to unpack .../142-libxml-libxml-perl_2.0207+dfsg+really+2.0134-1_amd64.deb ...\n",
            "Unpacking libxml-libxml-perl (2.0207+dfsg+really+2.0134-1) ...\n",
            "Selecting previously unselected package libxml-parser-perl:amd64.\n",
            "Preparing to unpack .../143-libxml-parser-perl_2.46-3build1_amd64.deb ...\n",
            "Unpacking libxml-parser-perl:amd64 (2.46-3build1) ...\n",
            "Selecting previously unselected package libxml-sax-expat-perl.\n",
            "Preparing to unpack .../144-libxml-sax-expat-perl_0.51-1_all.deb ...\n",
            "Unpacking libxml-sax-expat-perl (0.51-1) ...\n",
            "Selecting previously unselected package pstoedit.\n",
            "Preparing to unpack .../145-pstoedit_3.78-1_amd64.deb ...\n",
            "Unpacking pstoedit (3.78-1) ...\n",
            "Selecting previously unselected package qt5-gtk-platformtheme:amd64.\n",
            "Preparing to unpack .../146-qt5-gtk-platformtheme_5.15.3+dfsg-2ubuntu0.2_amd64.deb ...\n",
            "Unpacking qt5-gtk-platformtheme:amd64 (5.15.3+dfsg-2ubuntu0.2) ...\n",
            "Selecting previously unselected package qttranslations5-l10n.\n",
            "Preparing to unpack .../147-qttranslations5-l10n_5.15.3-1_all.deb ...\n",
            "Unpacking qttranslations5-l10n (5.15.3-1) ...\n",
            "Selecting previously unselected package texinfo.\n",
            "Preparing to unpack .../148-texinfo_6.8-4build1_amd64.deb ...\n",
            "Unpacking texinfo (6.8-4build1) ...\n",
            "Selecting previously unselected package libauthen-sasl-perl.\n",
            "Preparing to unpack .../149-libauthen-sasl-perl_2.1600-1.1_all.deb ...\n",
            "Unpacking libauthen-sasl-perl (2.1600-1.1) ...\n",
            "Selecting previously unselected package libglu1-mesa:amd64.\n",
            "Preparing to unpack .../150-libglu1-mesa_9.0.2-1_amd64.deb ...\n",
            "Unpacking libglu1-mesa:amd64 (9.0.2-1) ...\n",
            "Selecting previously unselected package octave-common.\n",
            "Preparing to unpack .../151-octave-common_6.4.0-2_all.deb ...\n",
            "Unpacking octave-common (6.4.0-2) ...\n",
            "Selecting previously unselected package octave.\n",
            "Preparing to unpack .../152-octave_6.4.0-2_amd64.deb ...\n",
            "Unpacking octave (6.4.0-2) ...\n",
            "Selecting previously unselected package octave-doc.\n",
            "Preparing to unpack .../153-octave-doc_6.4.0-2_all.deb ...\n",
            "Unpacking octave-doc (6.4.0-2) ...\n",
            "Setting up libplot2c2:amd64 (2.6-11) ...\n",
            "Setting up libportaudio2:amd64 (19.6.0-1.1) ...\n",
            "Setting up libhttp-date-perl (6.05-1) ...\n",
            "Setting up imagemagick-6-common (8:6.9.11.60+dfsg-1.3ubuntu0.22.04.5) ...\n",
            "Setting up libfftw3-single3:amd64 (3.3.8-2ubuntu8) ...\n",
            "Setting up libcombblas1.16.0:amd64 (1.6.2-8) ...\n",
            "Setting up libfile-listing-perl (6.14-1) ...\n",
            "Setting up fonts-noto-mono (20201225-1build1) ...\n",
            "Setting up default-jre-headless (2:1.11-72build2) ...\n",
            "Setting up libwmflite-0.2-7:amd64 (0.2.12-5ubuntu1) ...\n",
            "Setting up libxcb-xinput0:amd64 (1.14-3ubuntu3) ...\n",
            "Setting up libfont-afm-perl (1.20-3) ...\n",
            "Setting up libsundials-nvecserial4:amd64 (5.8.0+dfsg-1build1) ...\n",
            "Setting up libclone-perl (0.45-1build3) ...\n",
            "Setting up libhtml-tagset-perl (3.20-4) ...\n",
            "Setting up libqscintilla2-qt5-l10n (2.11.6+dfsg-4) ...\n",
            "Setting up libzip4:amd64 (1.7.3-1ubuntu2) ...\n",
            "Setting up libijs-0.35:amd64 (0.35-15build2) ...\n",
            "Setting up libauthen-sasl-perl (2.1600-1.1) ...\n",
            "Setting up libfltk1.3:amd64 (1.3.8-4) ...\n",
            "Setting up liblwp-mediatypes-perl (6.04-1) ...\n",
            "Setting up libfltk-gl1.3:amd64 (1.3.8-4) ...\n",
            "Setting up fonts-freefont-otf (20120503-10build1) ...\n",
            "Setting up libxcb-keysyms1:amd64 (0.4.0-1build3) ...\n",
            "Setting up libsundials-ida4:amd64 (5.8.0+dfsg-1build1) ...\n",
            "Setting up libtry-tiny-perl (0.31-1) ...\n",
            "Setting up libptscotch-6.1:amd64 (6.1.3-1) ...\n",
            "Setting up perl-openssl-defaults:amd64 (5build2) ...\n",
            "Setting up libxml-namespacesupport-perl (1.12-1.1) ...\n",
            "Setting up libfftw3-long3:amd64 (3.3.8-2ubuntu8) ...\n",
            "Setting up libxcb-render-util0:amd64 (0.3.9-1build3) ...\n",
            "Setting up libencode-locale-perl (1.05-1.1) ...\n",
            "Setting up libtrilinos-kokkos-13.2:amd64 (13.2.0-1ubuntu1) ...\n",
            "Setting up libmetis5:amd64 (5.1.0.dfsg-7build2) ...\n",
            "Setting up libxcb-icccm4:amd64 (0.4.1-1.1build2) ...\n",
            "Setting up fonts-urw-base35 (20200910-1) ...\n",
            "Setting up libtrilinos-zoltan-13.2:amd64 (13.2.0-1ubuntu1) ...\n",
            "Setting up libqrupdate1:amd64 (1.1.2-4) ...\n",
            "Setting up octave-common (6.4.0-2) ...\n",
            "Setting up libbtf1:amd64 (1:5.10.1+dfsg-4build1) ...\n",
            "Setting up libxcb-util1:amd64 (0.4.0-1build2) ...\n",
            "Setting up poppler-data (0.4.11-1) ...\n",
            "Setting up libxcb-xkb1:amd64 (1.14-3ubuntu3) ...\n",
            "Setting up libxcb-image0:amd64 (0.4.0-2) ...\n",
            "Setting up libtrilinos-trilinosss-13.2:amd64 (13.2.0-1ubuntu1) ...\n",
            "Setting up tex-common (6.17) ...\n",
            "update-language: texlive-base not installed and configured, doing nothing!\n",
            "Setting up libxml-sax-base-perl (1.09-1.1) ...\n",
            "Setting up libxcb-xinerama0:amd64 (1.14-3ubuntu3) ...\n",
            "Setting up libtrilinos-teuchos-13.2:amd64 (13.2.0-1ubuntu1) ...\n",
            "Setting up qttranslations5-l10n (5.15.3-1) ...\n",
            "Setting up libdata-dump-perl (1.25-1) ...\n",
            "Setting up libjbig2dec0:amd64 (0.19-3build2) ...\n",
            "Setting up libnotify4:amd64 (0.7.9-3ubuntu5.22.04.1) ...\n",
            "Setting up aglfn (1.7+git20191031.4036a9c-2) ...\n",
            "Setting up gsfonts (1:8.11+urwcyr1.0.7~pre44-4.5) ...\n",
            "Setting up libtrilinos-epetra-13.2:amd64 (13.2.0-1ubuntu1) ...\n",
            "Setting up libxkbcommon-x11-0:amd64 (1.4.0-1) ...\n",
            "Setting up libidn12:amd64 (1.38-4ubuntu1) ...\n",
            "Setting up libio-html-perl (1.004-2) ...\n",
            "Setting up libgraphicsmagick-q16-3 (1.4+really1.3.38-1ubuntu0.1) ...\n",
            "Setting up libqt5core5a:amd64 (5.15.3+dfsg-2ubuntu0.2) ...\n",
            "Setting up libfftw3-double3:amd64 (3.3.8-2ubuntu8) ...\n",
            "Setting up libmtdev1:amd64 (1.1.6-1build4) ...\n",
            "Setting up liblqr-1-0:amd64 (0.4.2-2.1) ...\n",
            "Setting up libtrilinos-aztecoo-13.2:amd64 (13.2.0-1ubuntu1) ...\n",
            "Setting up libqt5dbus5:amd64 (5.15.3+dfsg-2ubuntu0.2) ...\n",
            "Setting up libsuperlu-dist7:amd64 (7.2.0+dfsg1-2) ...\n",
            "Setting up libmd4c0:amd64 (0.4.8-1) ...\n",
            "Setting up liblua5.4-0:amd64 (5.4.4-1) ...\n",
            "Setting up netbase (6.3) ...\n",
            "Setting up libwxbase3.0-0v5:amd64 (3.0.5.1+dfsg-4) ...\n",
            "Setting up libgraphicsmagick++-q16-12 (1.4+really1.3.38-1ubuntu0.1) ...\n",
            "Setting up libcxsparse3:amd64 (1:5.10.1+dfsg-4build1) ...\n",
            "Setting up libglu1-mesa:amd64 (9.0.2-1) ...\n",
            "Setting up fonts-droid-fallback (1:6.0.1r16-1.1build1) ...\n",
            "Setting up libtext-unidecode-perl (1.30-1) ...\n",
            "Setting up libhypre-2.22.1:amd64 (2.22.1-7) ...\n",
            "Setting up libemf1:amd64 (1.0.13-3) ...\n",
            "Setting up libevdev2:amd64 (1.12.1+dfsg-1) ...\n",
            "Setting up libsuitesparseconfig5:amd64 (1:5.10.1+dfsg-4build1) ...\n",
            "Setting up liburi-perl (5.10-1) ...\n",
            "Setting up info (6.8-4build1) ...\n",
            "update-alternatives: using /usr/bin/info to provide /usr/bin/infobrowser (infobrowser) in auto mode\n",
            "Setting up libgudev-1.0-0:amd64 (1:237-2build1) ...\n",
            "Setting up libtrilinos-triutils-13.2:amd64 (13.2.0-1ubuntu1) ...\n",
            "Setting up libsundials-sunmatrix2:amd64 (5.8.0+dfsg-1build1) ...\n",
            "Setting up libhdf5-openmpi-103-1:amd64 (1.10.7+repack-4ubuntu2) ...\n",
            "Setting up libhttp-message-perl (6.36-1) ...\n",
            "Setting up libwacom-common (2.2.0-1) ...\n",
            "Setting up libnet-ssleay-perl:amd64 (1.92-1build2) ...\n",
            "Setting up libgs9-common (9.55.0~dfsg1-0ubuntu5.11) ...\n",
            "Setting up gnuplot-data (5.4.2+dfsg2-2) ...\n",
            "Setting up libamd2:amd64 (1:5.10.1+dfsg-4build1) ...\n",
            "Setting up libhttp-negotiate-perl (6.01-1) ...\n",
            "Setting up libcolamd2:amd64 (1:5.10.1+dfsg-4build1) ...\n",
            "Setting up libgs9:amd64 (9.55.0~dfsg1-0ubuntu5.11) ...\n",
            "Setting up libhttp-cookies-perl (6.10-1) ...\n",
            "Setting up libwacom9:amd64 (2.2.0-1) ...\n",
            "Setting up libnet-http-perl (6.22-1) ...\n",
            "Setting up libfftw3-mpi3:amd64 (3.3.8-2ubuntu8) ...\n",
            "Setting up ghostscript (9.55.0~dfsg1-0ubuntu5.11) ...\n",
            "Setting up octave-doc (6.4.0-2) ...\n",
            "Setting up libxml-sax-perl (1.02+dfsg-3) ...\n",
            "update-perl-sax-parsers: Registering Perl SAX parser XML::SAX::PurePerl with priority 10...\n",
            "update-perl-sax-parsers: Updating overall Perl SAX parser modules info file...\n",
            "\n",
            "Creating config file /etc/perl/XML/SAX/ParserDetails.ini with new version\n",
            "Setting up libwxgtk3.0-gtk3-0v5:amd64 (3.0.5.1+dfsg-4) ...\n",
            "Setting up libqt5network5:amd64 (5.15.3+dfsg-2ubuntu0.2) ...\n",
            "Setting up libinput-bin (1.20.0-1ubuntu0.3) ...\n",
            "Setting up libqt5sql5:amd64 (5.15.3+dfsg-2ubuntu0.2) ...\n",
            "Setting up libcamd2:amd64 (1:5.10.1+dfsg-4build1) ...\n",
            "Setting up libmagickcore-6.q16-6:amd64 (8:6.9.11.60+dfsg-1.3ubuntu0.22.04.5) ...\n",
            "Setting up libqt5xml5:amd64 (5.15.3+dfsg-2ubuntu0.2) ...\n",
            "Setting up epstool (3.09-3) ...\n",
            "Setting up libglpk40:amd64 (5.0-1) ...\n",
            "Setting up libtrilinos-epetraext-13.2:amd64 (13.2.0-1ubuntu1) ...\n",
            "Setting up libxml-libxml-perl (2.0207+dfsg+really+2.0134-1) ...\n",
            "update-perl-sax-parsers: Registering Perl SAX parser XML::LibXML::SAX::Parser with priority 50...\n",
            "update-perl-sax-parsers: Registering Perl SAX parser XML::LibXML::SAX with priority 50...\n",
            "update-perl-sax-parsers: Updating overall Perl SAX parser modules info file...\n",
            "Replacing config file /etc/perl/XML/SAX/ParserDetails.ini with new version\n",
            "Setting up libwacom-bin (2.2.0-1) ...\n",
            "Setting up libwww-robotrules-perl (6.02-1) ...\n",
            "Setting up libtrilinos-galeri-13.2:amd64 (13.2.0-1ubuntu1) ...\n",
            "Setting up libhttp-daemon-perl (6.13-1ubuntu0.1) ...\n",
            "Setting up libklu1:amd64 (1:5.10.1+dfsg-4build1) ...\n",
            "Setting up libccolamd2:amd64 (1:5.10.1+dfsg-4build1) ...\n",
            "Setting up libhtml-parser-perl:amd64 (3.76-1build2) ...\n",
            "Setting up libmagickwand-6.q16-6:amd64 (8:6.9.11.60+dfsg-1.3ubuntu0.22.04.5) ...\n",
            "Setting up libtrilinos-amesos-13.2:amd64 (13.2.0-1ubuntu1) ...\n",
            "Setting up libmagick++-6.q16-8:amd64 (8:6.9.11.60+dfsg-1.3ubuntu0.22.04.5) ...\n",
            "Setting up libcholmod3:amd64 (1:5.10.1+dfsg-4build1) ...\n",
            "Setting up libio-socket-ssl-perl (2.074-2) ...\n",
            "Setting up libhtml-form-perl (6.07-1) ...\n",
            "Setting up libinput10:amd64 (1.20.0-1ubuntu0.3) ...\n",
            "Setting up libqt5sql5-sqlite:amd64 (5.15.3+dfsg-2ubuntu0.2) ...\n",
            "Setting up libpstoedit0c2a:amd64 (3.78-1) ...\n",
            "Setting up libhtml-tree-perl (5.07-2) ...\n",
            "Setting up libqt5gui5:amd64 (5.15.3+dfsg-2ubuntu0.2) ...\n",
            "Setting up libqt5widgets5:amd64 (5.15.3+dfsg-2ubuntu0.2) ...\n",
            "Setting up libhtml-format-perl (2.12-1.1) ...\n",
            "Setting up libqt5help5:amd64 (5.15.3-1) ...\n",
            "Setting up qt5-gtk-platformtheme:amd64 (5.15.3+dfsg-2ubuntu0.2) ...\n",
            "Setting up libqt5printsupport5:amd64 (5.15.3+dfsg-2ubuntu0.2) ...\n",
            "Setting up libumfpack5:amd64 (1:5.10.1+dfsg-4build1) ...\n",
            "Setting up libnet-smtp-ssl-perl (1.04-1) ...\n",
            "Setting up libmailtools-perl (2.21-1) ...\n",
            "Setting up libtrilinos-ifpack-13.2:amd64 (13.2.0-1ubuntu1) ...\n",
            "Setting up texinfo (6.8-4build1) ...\n",
            "Setting up pstoedit (3.78-1) ...\n",
            "Setting up libtrilinos-ml-13.2:amd64 (13.2.0-1ubuntu1) ...\n",
            "Setting up libqt5svg5:amd64 (5.15.3-1) ...\n",
            "Setting up libpetsc-real3.15:amd64 (3.15.5+dfsg1-1build2) ...\n",
            "update-alternatives: using /usr/lib/x86_64-linux-gnu/libpetsc_real.so.3.15.5 to provide /usr/lib/x86_64-linux-gnu/libpetsc.so.3.15 (libpetsc.so.3.15) in auto mode\n",
            "Setting up libqscintilla2-qt5-15 (2.11.6+dfsg-4) ...\n",
            "Setting up gnuplot-qt (5.4.2+dfsg2-2) ...\n",
            "update-alternatives: using /usr/bin/gnuplot-qt to provide /usr/bin/gnuplot (gnuplot) in auto mode\n",
            "Setting up libsundials-nvecparallel-petsc4:amd64 (5.8.0+dfsg-1build1) ...\n",
            "Setting up libsundials-sunlinsol2:amd64 (5.8.0+dfsg-1build1) ...\n",
            "Setting up octave (6.4.0-2) ...\n",
            "Setting up liblwp-protocol-https-perl (6.10-1) ...\n",
            "Setting up libwww-perl (6.61-1) ...\n",
            "Setting up libxml-parser-perl:amd64 (2.46-3build1) ...\n",
            "Setting up libxml-sax-expat-perl (0.51-1) ...\n",
            "update-perl-sax-parsers: Registering Perl SAX parser XML::SAX::Expat with priority 50...\n",
            "update-perl-sax-parsers: Updating overall Perl SAX parser modules info file...\n",
            "Replacing config file /etc/perl/XML/SAX/ParserDetails.ini with new version\n",
            "Processing triggers for install-info (6.8-4build1) ...\n",
            "Processing triggers for mailcap (3.70+nmu1ubuntu1) ...\n",
            "Processing triggers for fontconfig (2.13.1-4.2ubuntu5) ...\n",
            "Processing triggers for hicolor-icon-theme (0.17-2) ...\n",
            "Processing triggers for libc-bin (2.35-0ubuntu3.8) ...\n",
            "/sbin/ldconfig.real: /usr/local/lib/libtbbmalloc_proxy.so.2 is not a symbolic link\n",
            "\n",
            "/sbin/ldconfig.real: /usr/local/lib/libtcm.so.1 is not a symbolic link\n",
            "\n",
            "/sbin/ldconfig.real: /usr/local/lib/libtbbmalloc.so.2 is not a symbolic link\n",
            "\n",
            "/sbin/ldconfig.real: /usr/local/lib/libtbbbind.so.3 is not a symbolic link\n",
            "\n",
            "/sbin/ldconfig.real: /usr/local/lib/libtcm_debug.so.1 is not a symbolic link\n",
            "\n",
            "/sbin/ldconfig.real: /usr/local/lib/libumf.so.0 is not a symbolic link\n",
            "\n",
            "/sbin/ldconfig.real: /usr/local/lib/libur_adapter_level_zero.so.0 is not a symbolic link\n",
            "\n",
            "/sbin/ldconfig.real: /usr/local/lib/libhwloc.so.15 is not a symbolic link\n",
            "\n",
            "/sbin/ldconfig.real: /usr/local/lib/libur_loader.so.0 is not a symbolic link\n",
            "\n",
            "/sbin/ldconfig.real: /usr/local/lib/libur_adapter_opencl.so.0 is not a symbolic link\n",
            "\n",
            "/sbin/ldconfig.real: /usr/local/lib/libtbbbind_2_0.so.3 is not a symbolic link\n",
            "\n",
            "/sbin/ldconfig.real: /usr/local/lib/libtbbbind_2_5.so.3 is not a symbolic link\n",
            "\n",
            "/sbin/ldconfig.real: /usr/local/lib/libtbb.so.12 is not a symbolic link\n",
            "\n",
            "Processing triggers for man-db (2.10.2-1) ...\n"
          ]
        }
      ],
      "source": [
        "!apt-get update -qq\n",
        "!apt-get install -y octave"
      ]
    },
    {
      "cell_type": "code",
      "execution_count": null,
      "metadata": {
        "colab": {
          "base_uri": "https://localhost:8080/"
        },
        "id": "06uU9Tpxc7O_",
        "outputId": "71a541e0-2e0b-4f8a-c9ec-dd2d2a0e570e"
      },
      "outputs": [
        {
          "name": "stdout",
          "output_type": "stream",
          "text": [
            "Writing hola.m\n"
          ]
        }
      ],
      "source": [
        "%%writefile hola.m\n",
        "disp(\"¡Hola desde Octave en Google Colab!\");"
      ]
    },
    {
      "cell_type": "code",
      "execution_count": null,
      "metadata": {
        "colab": {
          "base_uri": "https://localhost:8080/"
        },
        "id": "AgtHSaBZgLqQ",
        "outputId": "b90c93c1-a2e4-47a8-c65f-41b37c3228c0"
      },
      "outputs": [
        {
          "name": "stdout",
          "output_type": "stream",
          "text": [
            "¡Hola desde Octave en Google Colab!\n"
          ]
        }
      ],
      "source": [
        "!octave -q --eval hola"
      ]
    },
    {
      "cell_type": "code",
      "execution_count": null,
      "metadata": {
        "colab": {
          "base_uri": "https://localhost:8080/"
        },
        "id": "vTTpPipUgWhm",
        "outputId": "71597fae-92a8-4c1e-c7d7-c3f8604e48c4"
      },
      "outputs": [
        {
          "name": "stdout",
          "output_type": "stream",
          "text": [
            "hello.f90\n"
          ]
        }
      ],
      "source": [
        "ls"
      ]
    },
    {
      "cell_type": "code",
      "execution_count": null,
      "metadata": {
        "colab": {
          "base_uri": "https://localhost:8080/"
        },
        "id": "6P2K5v-3g2Zq",
        "outputId": "09ba321b-def8-4c1b-8f36-f62dfd015951"
      },
      "outputs": [
        {
          "name": "stdout",
          "output_type": "stream",
          "text": [
            "/content/drive/MyDrive/fortran_projects\n"
          ]
        }
      ],
      "source": [
        "cd MyDrive/fortran_projects"
      ]
    },
    {
      "cell_type": "code",
      "execution_count": null,
      "metadata": {
        "colab": {
          "base_uri": "https://localhost:8080/",
          "height": 671
        },
        "id": "0l1INFbkg4Ww",
        "outputId": "f1156e27-5378-498d-9dea-4126b114583c"
      },
      "outputs": [
        {
          "data": {
            "image/png": "[encoded data removed]",
            "text/plain": [
              "<IPython.core.display.Image object>"
            ]
          },
          "metadata": {},
          "output_type": "display_data"
        }
      ],
      "source": [
        "from IPython.display import Image, display\n",
        "\n",
        "display(Image(filename='grafica.png'))"
      ]
    },
    {
      "cell_type": "code",
      "execution_count": null,
      "metadata": {
        "colab": {
          "base_uri": "https://localhost:8080/"
        },
        "id": "gZx1RtkzhoKr",
        "outputId": "ef536058-978d-4650-8193-242d4b59435e"
      },
      "outputs": [
        {
          "name": "stdout",
          "output_type": "stream",
          "text": [
            "\u001b[34mprogram \u001b[39;49;00mhello\u001b[37m\u001b[39;49;00m\n",
            "\u001b[37m  \u001b[39;49;00m\u001b[34mprint\u001b[39;49;00m\u001b[37m \u001b[39;49;00m*,\u001b[37m \u001b[39;49;00m\u001b[33m\"¡Hola desde Fortran en Google Colab!\"\u001b[39;49;00m\u001b[37m\u001b[39;49;00m\n",
            "\u001b[34mend \u001b[39;49;00m\u001b[34mprogram \u001b[39;49;00mhello\u001b[37m\u001b[39;49;00m\n"
          ]
        }
      ],
      "source": [
        "!pygmentize -g hello.f90"
      ]
    },
    {
      "cell_type": "code",
      "execution_count": null,
      "metadata": {
        "colab": {
          "base_uri": "https://localhost:8080/",
          "height": 35
        },
        "id": "J3SHj3I_ixdD",
        "outputId": "d20d1e56-27b6-4185-e05b-3e9b19c2cb2a"
      },
      "outputs": [
        {
          "data": {
            "application/vnd.google.colaboratory.intrinsic+json": {
              "type": "string"
            },
            "text/plain": [
              "'/content/drive/MyDrive/fortran_projects'"
            ]
          },
          "execution_count": 33,
          "metadata": {},
          "output_type": "execute_result"
        }
      ],
      "source": [
        "pwd"
      ]
    },
    {
      "cell_type": "code",
      "execution_count": null,
      "metadata": {
        "id": "o1ueZ2edjIDA"
      },
      "outputs": [],
      "source": []
    }
  ],
  "metadata": {
    "colab": {
      "provenance": [],
      "toc_visible": true
    },
    "kernelspec": {
      "display_name": "Python 3",
      "name": "python3"
    },
    "language_info": {
      "name": "python"
    }
  },
  "nbformat": 4,
  "nbformat_minor": 0
}
